{
  "cells": [
    {
      "cell_type": "markdown",
      "metadata": {
        "id": "view-in-github",
        "colab_type": "text"
      },
      "source": [
        "<a href=\"https://colab.research.google.com/github/RuHsu015/This_is_my_Colab/blob/main/time_series_forcasting_with_lstm.ipynb\" target=\"_parent\"><img src=\"https://colab.research.google.com/assets/colab-badge.svg\" alt=\"Open In Colab\"/></a>"
      ]
    },
    {
      "cell_type": "code",
      "execution_count": null,
      "id": "e56660e2",
      "metadata": {
        "_cell_guid": "b1076dfc-b9ad-4769-8c92-a6c4dae69d19",
        "_uuid": "8f2839f25d086af736a60e9eeb907d3b93b6e0e5",
        "execution": {
          "iopub.execute_input": "2022-05-25T16:12:18.640875Z",
          "iopub.status.busy": "2022-05-25T16:12:18.640149Z",
          "iopub.status.idle": "2022-05-25T16:12:18.655112Z",
          "shell.execute_reply": "2022-05-25T16:12:18.654407Z"
        },
        "papermill": {
          "duration": 0.045595,
          "end_time": "2022-05-25T16:12:18.657711",
          "exception": false,
          "start_time": "2022-05-25T16:12:18.612116",
          "status": "completed"
        },
        "tags": [],
        "id": "e56660e2",
        "outputId": "b4f2b924-20ab-4fbb-992b-3768b84d2b43"
      },
      "outputs": [
        {
          "name": "stdout",
          "output_type": "stream",
          "text": [
            "/kaggle/input/competitive-data-science-predict-future-sales/items.csv\n",
            "/kaggle/input/competitive-data-science-predict-future-sales/sample_submission.csv\n",
            "/kaggle/input/competitive-data-science-predict-future-sales/item_categories.csv\n",
            "/kaggle/input/competitive-data-science-predict-future-sales/sales_train.csv\n",
            "/kaggle/input/competitive-data-science-predict-future-sales/shops.csv\n",
            "/kaggle/input/competitive-data-science-predict-future-sales/test.csv\n"
          ]
        }
      ],
      "source": [
        "# This Python 3 environment comes with many helpful analytics libraries installed\n",
        "# It is defined by the kaggle/python Docker image: https://github.com/kaggle/docker-python\n",
        "# For example, here's several helpful packages to load\n",
        "\n",
        "\n",
        "\n",
        "# Input data files are available in the read-only \"../input/\" directory\n",
        "# For example, running this (by clicking run or pressing Shift+Enter) will list all files under the input directory\n",
        "\n",
        "import os\n",
        "for dirname, _, filenames in os.walk('/kaggle/input'):\n",
        "    for filename in filenames:\n",
        "        print(os.path.join(dirname, filename))\n",
        "\n",
        "# You can write up to 20GB to the current directory (/kaggle/working/) that gets preserved as output when you create a version using \"Save & Run All\" \n",
        "# You can also write temporary files to /kaggle/temp/, but they won't be saved outside of the current session"
      ]
    },
    {
      "cell_type": "code",
      "source": [
        "from google.colab import drive\n",
        "drive.mount('/content/drive')"
      ],
      "metadata": {
        "colab": {
          "base_uri": "https://localhost:8080/"
        },
        "id": "lgBmhCDWut4w",
        "outputId": "93f68c11-f5a1-49b4-bbe9-300b43d614ba"
      },
      "id": "lgBmhCDWut4w",
      "execution_count": 1,
      "outputs": [
        {
          "output_type": "stream",
          "name": "stdout",
          "text": [
            "Mounted at /content/drive\n"
          ]
        }
      ]
    },
    {
      "cell_type": "code",
      "execution_count": 2,
      "id": "25cc3306",
      "metadata": {
        "execution": {
          "iopub.execute_input": "2022-05-25T16:12:18.710767Z",
          "iopub.status.busy": "2022-05-25T16:12:18.710505Z",
          "iopub.status.idle": "2022-05-25T16:12:24.700402Z",
          "shell.execute_reply": "2022-05-25T16:12:24.699572Z"
        },
        "papermill": {
          "duration": 6.019222,
          "end_time": "2022-05-25T16:12:24.702632",
          "exception": false,
          "start_time": "2022-05-25T16:12:18.683410",
          "status": "completed"
        },
        "tags": [],
        "id": "25cc3306"
      },
      "outputs": [],
      "source": [
        "import numpy as np # linear algebra\n",
        "import pandas as pd # data processing, CSV file I/O (e.g. pd.read_csv)\n",
        "import seaborn as sns\n",
        "import matplotlib.pyplot as plt\n",
        "from matplotlib.pyplot import figure\n",
        "%matplotlib inline \n",
        "\n",
        "import tensorflow as tf\n",
        "from sklearn import preprocessing\n",
        "\n",
        "import random\n",
        "tf.random.set_seed(53)\n",
        "random.seed(53)"
      ]
    },
    {
      "cell_type": "code",
      "execution_count": 3,
      "id": "2682aaf3",
      "metadata": {
        "execution": {
          "iopub.execute_input": "2022-05-25T16:12:24.755056Z",
          "iopub.status.busy": "2022-05-25T16:12:24.754778Z",
          "iopub.status.idle": "2022-05-25T16:12:27.369797Z",
          "shell.execute_reply": "2022-05-25T16:12:27.369057Z"
        },
        "papermill": {
          "duration": 2.643748,
          "end_time": "2022-05-25T16:12:27.371912",
          "exception": false,
          "start_time": "2022-05-25T16:12:24.728164",
          "status": "completed"
        },
        "tags": [],
        "id": "2682aaf3"
      },
      "outputs": [],
      "source": [
        "BASE = \"/content/drive/MyDrive/Colab Notebooks/deep_learning_report/Predict Future Sales/\"\n",
        "item_cat = pd.read_csv(BASE+\"item_categories.csv\")\n",
        "item = pd.read_csv(BASE+\"items.csv\")\n",
        "sales_train = pd.read_csv(BASE+\"sales_train.csv\")\n",
        "shops = pd.read_csv(BASE+\"shops.csv\")\n",
        "sales_test = pd.read_csv(BASE+\"test.csv\")"
      ]
    },
    {
      "cell_type": "markdown",
      "source": [
        "### data"
      ],
      "metadata": {
        "id": "tjxqSewLA0lK"
      },
      "id": "tjxqSewLA0lK"
    },
    {
      "cell_type": "code",
      "execution_count": 56,
      "id": "ca9ebd6f",
      "metadata": {
        "execution": {
          "iopub.execute_input": "2022-05-25T16:12:27.426002Z",
          "iopub.status.busy": "2022-05-25T16:12:27.425607Z",
          "iopub.status.idle": "2022-05-25T16:12:27.431969Z",
          "shell.execute_reply": "2022-05-25T16:12:27.431251Z"
        },
        "papermill": {
          "duration": 0.034836,
          "end_time": "2022-05-25T16:12:27.433535",
          "exception": false,
          "start_time": "2022-05-25T16:12:27.398699",
          "status": "completed"
        },
        "tags": [],
        "id": "ca9ebd6f"
      },
      "outputs": [],
      "source": [
        "def basic_eda(df):\n",
        "    print(\"---------- TOP 5 RECORDS --------\")\n",
        "    print(df.head(5))\n",
        "    print(\"---------- INFO -----------------\")\n",
        "    print(df.info())\n",
        "    print(\"---------- Describe -------------\")\n",
        "    print(df.describe())\n",
        "    print(\"---------- Columns --------------\")\n",
        "    print(df.columns)\n",
        "    print(\"---------- Data Types -----------\")\n",
        "    print(df.dtypes)\n",
        "    print(\"------- Missing Values ----------\")\n",
        "    print(df.isnull().sum())\n",
        "    print(\"------- NULL values -------------\")\n",
        "    print(df.isna().sum())\n",
        "    print(\"----- Shape Of Data -------------\")\n",
        "    print(df.shape)"
      ]
    },
    {
      "cell_type": "markdown",
      "id": "4757e886",
      "metadata": {
        "papermill": {
          "duration": 0.026406,
          "end_time": "2022-05-25T16:12:27.485406",
          "exception": false,
          "start_time": "2022-05-25T16:12:27.459000",
          "status": "completed"
        },
        "tags": [],
        "id": "4757e886"
      },
      "source": [
        "**EDA**"
      ]
    },
    {
      "cell_type": "code",
      "execution_count": 57,
      "id": "d7362f3e",
      "metadata": {
        "execution": {
          "iopub.execute_input": "2022-05-25T16:12:27.539433Z",
          "iopub.status.busy": "2022-05-25T16:12:27.538633Z",
          "iopub.status.idle": "2022-05-25T16:12:28.622939Z",
          "shell.execute_reply": "2022-05-25T16:12:28.622046Z"
        },
        "papermill": {
          "duration": 1.113805,
          "end_time": "2022-05-25T16:12:28.625172",
          "exception": false,
          "start_time": "2022-05-25T16:12:27.511367",
          "status": "completed"
        },
        "tags": [],
        "colab": {
          "base_uri": "https://localhost:8080/"
        },
        "id": "d7362f3e",
        "outputId": "1578284e-52d9-4345-adf5-dbec71a082fa"
      },
      "outputs": [
        {
          "output_type": "stream",
          "name": "stdout",
          "text": [
            "============================= Sales Data =============================\n",
            "---------- TOP 5 RECORDS --------\n",
            "         date  date_block_num  shop_id  item_id  item_price  item_cnt_day\n",
            "0  02.01.2013               0       59    22154      999.00           1.0\n",
            "1  03.01.2013               0       25     2552      899.00           1.0\n",
            "2  05.01.2013               0       25     2552      899.00          -1.0\n",
            "3  06.01.2013               0       25     2554     1709.05           1.0\n",
            "4  15.01.2013               0       25     2555     1099.00           1.0\n",
            "---------- INFO -----------------\n",
            "<class 'pandas.core.frame.DataFrame'>\n",
            "RangeIndex: 2935849 entries, 0 to 2935848\n",
            "Data columns (total 6 columns):\n",
            " #   Column          Dtype  \n",
            "---  ------          -----  \n",
            " 0   date            object \n",
            " 1   date_block_num  int64  \n",
            " 2   shop_id         int64  \n",
            " 3   item_id         int64  \n",
            " 4   item_price      float64\n",
            " 5   item_cnt_day    float64\n",
            "dtypes: float64(2), int64(3), object(1)\n",
            "memory usage: 134.4+ MB\n",
            "None\n",
            "---------- Describe -------------\n",
            "       date_block_num       shop_id       item_id    item_price  item_cnt_day\n",
            "count    2.935849e+06  2.935849e+06  2.935849e+06  2.935849e+06  2.935849e+06\n",
            "mean     1.456991e+01  3.300173e+01  1.019723e+04  8.908532e+02  1.242641e+00\n",
            "std      9.422988e+00  1.622697e+01  6.324297e+03  1.729800e+03  2.618834e+00\n",
            "min      0.000000e+00  0.000000e+00  0.000000e+00 -1.000000e+00 -2.200000e+01\n",
            "25%      7.000000e+00  2.200000e+01  4.476000e+03  2.490000e+02  1.000000e+00\n",
            "50%      1.400000e+01  3.100000e+01  9.343000e+03  3.990000e+02  1.000000e+00\n",
            "75%      2.300000e+01  4.700000e+01  1.568400e+04  9.990000e+02  1.000000e+00\n",
            "max      3.300000e+01  5.900000e+01  2.216900e+04  3.079800e+05  2.169000e+03\n",
            "---------- Columns --------------\n",
            "Index(['date', 'date_block_num', 'shop_id', 'item_id', 'item_price',\n",
            "       'item_cnt_day'],\n",
            "      dtype='object')\n",
            "---------- Data Types -----------\n",
            "date               object\n",
            "date_block_num      int64\n",
            "shop_id             int64\n",
            "item_id             int64\n",
            "item_price        float64\n",
            "item_cnt_day      float64\n",
            "dtype: object\n",
            "------- Missing Values ----------\n",
            "date              0\n",
            "date_block_num    0\n",
            "shop_id           0\n",
            "item_id           0\n",
            "item_price        0\n",
            "item_cnt_day      0\n",
            "dtype: int64\n",
            "------- NULL values -------------\n",
            "date              0\n",
            "date_block_num    0\n",
            "shop_id           0\n",
            "item_id           0\n",
            "item_price        0\n",
            "item_cnt_day      0\n",
            "dtype: int64\n",
            "----- Shape Of Data -------------\n",
            "(2935849, 6)\n"
          ]
        }
      ],
      "source": [
        "print(\"============================= Sales Data =============================\")\n",
        "basic_eda(sales_train)"
      ]
    },
    {
      "cell_type": "code",
      "execution_count": 58,
      "id": "b94dafae",
      "metadata": {
        "execution": {
          "iopub.execute_input": "2022-05-25T16:12:28.682877Z",
          "iopub.status.busy": "2022-05-25T16:12:28.682583Z",
          "iopub.status.idle": "2022-05-25T16:12:28.726811Z",
          "shell.execute_reply": "2022-05-25T16:12:28.725952Z"
        },
        "papermill": {
          "duration": 0.075508,
          "end_time": "2022-05-25T16:12:28.729015",
          "exception": false,
          "start_time": "2022-05-25T16:12:28.653507",
          "status": "completed"
        },
        "tags": [],
        "colab": {
          "base_uri": "https://localhost:8080/"
        },
        "id": "b94dafae",
        "outputId": "999e0f2c-a78f-4ee2-a11b-362cef269b48"
      },
      "outputs": [
        {
          "output_type": "stream",
          "name": "stdout",
          "text": [
            "============================= Test data =============================\n",
            "---------- TOP 5 RECORDS --------\n",
            "   ID  shop_id  item_id\n",
            "0   0        5     5037\n",
            "1   1        5     5320\n",
            "2   2        5     5233\n",
            "3   3        5     5232\n",
            "4   4        5     5268\n",
            "---------- INFO -----------------\n",
            "<class 'pandas.core.frame.DataFrame'>\n",
            "RangeIndex: 214200 entries, 0 to 214199\n",
            "Data columns (total 3 columns):\n",
            " #   Column   Non-Null Count   Dtype\n",
            "---  ------   --------------   -----\n",
            " 0   ID       214200 non-null  int64\n",
            " 1   shop_id  214200 non-null  int64\n",
            " 2   item_id  214200 non-null  int64\n",
            "dtypes: int64(3)\n",
            "memory usage: 4.9 MB\n",
            "None\n",
            "---------- Describe -------------\n",
            "                  ID        shop_id        item_id\n",
            "count  214200.000000  214200.000000  214200.000000\n",
            "mean   107099.500000      31.642857   11019.398627\n",
            "std     61834.358168      17.561933    6252.644590\n",
            "min         0.000000       2.000000      30.000000\n",
            "25%     53549.750000      16.000000    5381.500000\n",
            "50%    107099.500000      34.500000   11203.000000\n",
            "75%    160649.250000      47.000000   16071.500000\n",
            "max    214199.000000      59.000000   22167.000000\n",
            "---------- Columns --------------\n",
            "Index(['ID', 'shop_id', 'item_id'], dtype='object')\n",
            "---------- Data Types -----------\n",
            "ID         int64\n",
            "shop_id    int64\n",
            "item_id    int64\n",
            "dtype: object\n",
            "------- Missing Values ----------\n",
            "ID         0\n",
            "shop_id    0\n",
            "item_id    0\n",
            "dtype: int64\n",
            "------- NULL values -------------\n",
            "ID         0\n",
            "shop_id    0\n",
            "item_id    0\n",
            "dtype: int64\n",
            "----- Shape Of Data -------------\n",
            "(214200, 3)\n"
          ]
        }
      ],
      "source": [
        "print(\"============================= Test data =============================\")\n",
        "basic_eda(sales_test)"
      ]
    },
    {
      "cell_type": "code",
      "execution_count": 59,
      "id": "857b8cb9",
      "metadata": {
        "execution": {
          "iopub.execute_input": "2022-05-25T16:12:28.791433Z",
          "iopub.status.busy": "2022-05-25T16:12:28.791166Z",
          "iopub.status.idle": "2022-05-25T16:12:28.818244Z",
          "shell.execute_reply": "2022-05-25T16:12:28.817180Z"
        },
        "papermill": {
          "duration": 0.059798,
          "end_time": "2022-05-25T16:12:28.820489",
          "exception": false,
          "start_time": "2022-05-25T16:12:28.760691",
          "status": "completed"
        },
        "tags": [],
        "colab": {
          "base_uri": "https://localhost:8080/"
        },
        "id": "857b8cb9",
        "outputId": "d087b6f0-96cc-472a-8954-777165616279"
      },
      "outputs": [
        {
          "output_type": "stream",
          "name": "stdout",
          "text": [
            "============================= Item Categories =============================\n",
            "---------- TOP 5 RECORDS --------\n",
            "        item_category_name  item_category_id\n",
            "0  PC - Гарнитуры/Наушники                 0\n",
            "1         Аксессуары - PS2                 1\n",
            "2         Аксессуары - PS3                 2\n",
            "3         Аксессуары - PS4                 3\n",
            "4         Аксессуары - PSP                 4\n",
            "---------- INFO -----------------\n",
            "<class 'pandas.core.frame.DataFrame'>\n",
            "RangeIndex: 84 entries, 0 to 83\n",
            "Data columns (total 2 columns):\n",
            " #   Column              Non-Null Count  Dtype \n",
            "---  ------              --------------  ----- \n",
            " 0   item_category_name  84 non-null     object\n",
            " 1   item_category_id    84 non-null     int64 \n",
            "dtypes: int64(1), object(1)\n",
            "memory usage: 1.4+ KB\n",
            "None\n",
            "---------- Describe -------------\n",
            "       item_category_id\n",
            "count         84.000000\n",
            "mean          41.500000\n",
            "std           24.392622\n",
            "min            0.000000\n",
            "25%           20.750000\n",
            "50%           41.500000\n",
            "75%           62.250000\n",
            "max           83.000000\n",
            "---------- Columns --------------\n",
            "Index(['item_category_name', 'item_category_id'], dtype='object')\n",
            "---------- Data Types -----------\n",
            "item_category_name    object\n",
            "item_category_id       int64\n",
            "dtype: object\n",
            "------- Missing Values ----------\n",
            "item_category_name    0\n",
            "item_category_id      0\n",
            "dtype: int64\n",
            "------- NULL values -------------\n",
            "item_category_name    0\n",
            "item_category_id      0\n",
            "dtype: int64\n",
            "----- Shape Of Data -------------\n",
            "(84, 2)\n"
          ]
        }
      ],
      "source": [
        "print(\"============================= Item Categories =============================\")\n",
        "basic_eda(item_cat)"
      ]
    },
    {
      "cell_type": "code",
      "execution_count": 60,
      "id": "5cd964d9",
      "metadata": {
        "execution": {
          "iopub.execute_input": "2022-05-25T16:12:28.885498Z",
          "iopub.status.busy": "2022-05-25T16:12:28.884751Z",
          "iopub.status.idle": "2022-05-25T16:12:28.924667Z",
          "shell.execute_reply": "2022-05-25T16:12:28.922485Z"
        },
        "papermill": {
          "duration": 0.073644,
          "end_time": "2022-05-25T16:12:28.926827",
          "exception": false,
          "start_time": "2022-05-25T16:12:28.853183",
          "status": "completed"
        },
        "tags": [],
        "colab": {
          "base_uri": "https://localhost:8080/"
        },
        "id": "5cd964d9",
        "outputId": "701aa00e-e896-4060-aad0-c9fb79088060"
      },
      "outputs": [
        {
          "output_type": "stream",
          "name": "stdout",
          "text": [
            "============================= Items =============================\n",
            "---------- TOP 5 RECORDS --------\n",
            "                                           item_name  item_id  \\\n",
            "0          ! ВО ВЛАСТИ НАВАЖДЕНИЯ (ПЛАСТ.)         D        0   \n",
            "1  !ABBYY FineReader 12 Professional Edition Full...        1   \n",
            "2      ***В ЛУЧАХ СЛАВЫ   (UNV)                    D        2   \n",
            "3    ***ГОЛУБАЯ ВОЛНА  (Univ)                      D        3   \n",
            "4        ***КОРОБКА (СТЕКЛО)                       D        4   \n",
            "\n",
            "   item_category_id  \n",
            "0                40  \n",
            "1                76  \n",
            "2                40  \n",
            "3                40  \n",
            "4                40  \n",
            "---------- INFO -----------------\n",
            "<class 'pandas.core.frame.DataFrame'>\n",
            "RangeIndex: 22170 entries, 0 to 22169\n",
            "Data columns (total 3 columns):\n",
            " #   Column            Non-Null Count  Dtype \n",
            "---  ------            --------------  ----- \n",
            " 0   item_name         22170 non-null  object\n",
            " 1   item_id           22170 non-null  int64 \n",
            " 2   item_category_id  22170 non-null  int64 \n",
            "dtypes: int64(2), object(1)\n",
            "memory usage: 519.7+ KB\n",
            "None\n",
            "---------- Describe -------------\n",
            "           item_id  item_category_id\n",
            "count  22170.00000      22170.000000\n",
            "mean   11084.50000         46.290753\n",
            "std     6400.07207         15.941486\n",
            "min        0.00000          0.000000\n",
            "25%     5542.25000         37.000000\n",
            "50%    11084.50000         40.000000\n",
            "75%    16626.75000         58.000000\n",
            "max    22169.00000         83.000000\n",
            "---------- Columns --------------\n",
            "Index(['item_name', 'item_id', 'item_category_id'], dtype='object')\n",
            "---------- Data Types -----------\n",
            "item_name           object\n",
            "item_id              int64\n",
            "item_category_id     int64\n",
            "dtype: object\n",
            "------- Missing Values ----------\n",
            "item_name           0\n",
            "item_id             0\n",
            "item_category_id    0\n",
            "dtype: int64\n",
            "------- NULL values -------------\n",
            "item_name           0\n",
            "item_id             0\n",
            "item_category_id    0\n",
            "dtype: int64\n",
            "----- Shape Of Data -------------\n",
            "(22170, 3)\n"
          ]
        }
      ],
      "source": [
        "print(\"============================= Items =============================\")\n",
        "basic_eda(item)"
      ]
    },
    {
      "cell_type": "code",
      "execution_count": 61,
      "id": "4352473d",
      "metadata": {
        "execution": {
          "iopub.execute_input": "2022-05-25T16:12:28.993333Z",
          "iopub.status.busy": "2022-05-25T16:12:28.992583Z",
          "iopub.status.idle": "2022-05-25T16:12:29.020303Z",
          "shell.execute_reply": "2022-05-25T16:12:29.016190Z"
        },
        "papermill": {
          "duration": 0.06379,
          "end_time": "2022-05-25T16:12:29.022465",
          "exception": false,
          "start_time": "2022-05-25T16:12:28.958675",
          "status": "completed"
        },
        "tags": [],
        "colab": {
          "base_uri": "https://localhost:8080/"
        },
        "id": "4352473d",
        "outputId": "c4b1d785-c1fc-4bbb-9d8e-0be913d24369"
      },
      "outputs": [
        {
          "output_type": "stream",
          "name": "stdout",
          "text": [
            "============================= Shops =============================\n",
            "---------- TOP 5 RECORDS --------\n",
            "                        shop_name  shop_id\n",
            "0   !Якутск Орджоникидзе, 56 фран        0\n",
            "1   !Якутск ТЦ \"Центральный\" фран        1\n",
            "2                Адыгея ТЦ \"Мега\"        2\n",
            "3  Балашиха ТРК \"Октябрь-Киномир\"        3\n",
            "4        Волжский ТЦ \"Волга Молл\"        4\n",
            "---------- INFO -----------------\n",
            "<class 'pandas.core.frame.DataFrame'>\n",
            "RangeIndex: 60 entries, 0 to 59\n",
            "Data columns (total 2 columns):\n",
            " #   Column     Non-Null Count  Dtype \n",
            "---  ------     --------------  ----- \n",
            " 0   shop_name  60 non-null     object\n",
            " 1   shop_id    60 non-null     int64 \n",
            "dtypes: int64(1), object(1)\n",
            "memory usage: 1.1+ KB\n",
            "None\n",
            "---------- Describe -------------\n",
            "         shop_id\n",
            "count  60.000000\n",
            "mean   29.500000\n",
            "std    17.464249\n",
            "min     0.000000\n",
            "25%    14.750000\n",
            "50%    29.500000\n",
            "75%    44.250000\n",
            "max    59.000000\n",
            "---------- Columns --------------\n",
            "Index(['shop_name', 'shop_id'], dtype='object')\n",
            "---------- Data Types -----------\n",
            "shop_name    object\n",
            "shop_id       int64\n",
            "dtype: object\n",
            "------- Missing Values ----------\n",
            "shop_name    0\n",
            "shop_id      0\n",
            "dtype: int64\n",
            "------- NULL values -------------\n",
            "shop_name    0\n",
            "shop_id      0\n",
            "dtype: int64\n",
            "----- Shape Of Data -------------\n",
            "(60, 2)\n"
          ]
        }
      ],
      "source": [
        "print(\"============================= Shops =============================\")\n",
        "basic_eda(shops)"
      ]
    },
    {
      "cell_type": "code",
      "execution_count": 62,
      "id": "dc39265c",
      "metadata": {
        "execution": {
          "iopub.execute_input": "2022-05-25T16:12:29.087805Z",
          "iopub.status.busy": "2022-05-25T16:12:29.087544Z",
          "iopub.status.idle": "2022-05-25T16:12:30.187429Z",
          "shell.execute_reply": "2022-05-25T16:12:30.186504Z"
        },
        "papermill": {
          "duration": 1.135488,
          "end_time": "2022-05-25T16:12:30.190638",
          "exception": false,
          "start_time": "2022-05-25T16:12:29.055150",
          "status": "completed"
        },
        "tags": [],
        "colab": {
          "base_uri": "https://localhost:8080/",
          "height": 453
        },
        "id": "dc39265c",
        "outputId": "e7b63d23-5b9b-4e8e-a93d-b579c065a139"
      },
      "outputs": [
        {
          "output_type": "display_data",
          "data": {
            "text/plain": [
              "<Figure size 432x432 with 2 Axes>"
            ],
            "image/png": "[encoded data removed]"
          },
          "metadata": {
            "needs_background": "light"
          }
        }
      ],
      "source": [
        "corr = sales_train.corr()\n",
        "top_corr_features = corr.index[abs(corr[\"item_cnt_day\"])>0]\n",
        "\n",
        "plt.figure(figsize=(6,6))\n",
        "g=sns.heatmap(sales_train[top_corr_features].corr(),annot=True,cmap=\"YlGnBu\")"
      ]
    },
    {
      "cell_type": "markdown",
      "source": [
        "### data preprocess"
      ],
      "metadata": {
        "id": "mDWuwNEmBCDv"
      },
      "id": "mDWuwNEmBCDv"
    },
    {
      "cell_type": "markdown",
      "id": "b20f08d0",
      "metadata": {
        "papermill": {
          "duration": 0.04999,
          "end_time": "2022-05-25T16:12:30.297141",
          "exception": false,
          "start_time": "2022-05-25T16:12:30.247151",
          "status": "completed"
        },
        "tags": [],
        "id": "b20f08d0"
      },
      "source": [
        "**Data Preprocessing**"
      ]
    },
    {
      "cell_type": "code",
      "execution_count": 4,
      "id": "903e25a7",
      "metadata": {
        "execution": {
          "iopub.execute_input": "2022-05-25T16:12:30.394772Z",
          "iopub.status.busy": "2022-05-25T16:12:30.394426Z",
          "iopub.status.idle": "2022-05-25T16:12:31.301330Z",
          "shell.execute_reply": "2022-05-25T16:12:31.300649Z"
        },
        "papermill": {
          "duration": 0.958443,
          "end_time": "2022-05-25T16:12:31.303448",
          "exception": false,
          "start_time": "2022-05-25T16:12:30.345005",
          "status": "completed"
        },
        "tags": [],
        "colab": {
          "base_uri": "https://localhost:8080/",
          "height": 389
        },
        "id": "903e25a7",
        "outputId": "d9c8141f-0a0a-4943-f2d3-56d59371ce91"
      },
      "outputs": [
        {
          "output_type": "display_data",
          "data": {
            "text/plain": [
              "<Figure size 1440x432 with 2 Axes>"
            ],
            "image/png": "[encoded data removed]"
          },
          "metadata": {
            "needs_background": "light"
          }
        }
      ],
      "source": [
        "# Find outliers in the columns sales_train.'item_cnt_day',sales_train.'item_price'\n",
        "cols = ['item_cnt_day','item_price']\n",
        "fig, ax = plt.subplots(ncols = len(cols), figsize = (10 * len(cols),6), sharex = True)\n",
        "fig.subplots_adjust(wspace=0.2)\n",
        "\n",
        "for i in range(len(cols)):\n",
        "  ax[i].boxplot(sales_train[cols[i]])\n",
        "  ax[i].set_xlabel(cols[i])\n",
        "  ax[i].set_ylabel(\"Count\")"
      ]
    },
    {
      "cell_type": "markdown",
      "id": "c6b5b850",
      "metadata": {
        "papermill": {
          "duration": 0.029891,
          "end_time": "2022-05-25T16:12:31.363632",
          "exception": false,
          "start_time": "2022-05-25T16:12:31.333741",
          "status": "completed"
        },
        "tags": [],
        "id": "c6b5b850"
      },
      "source": [
        "**Observations:**\n",
        "\n",
        "item_cnt_day has outlier > 2000\n",
        "item_price has outlier > 300000\n",
        "\n",
        "**Next:**\n",
        "\n",
        "Remove observed outliers"
      ]
    },
    {
      "cell_type": "code",
      "execution_count": 5,
      "id": "a5418591",
      "metadata": {
        "execution": {
          "iopub.execute_input": "2022-05-25T16:12:31.425369Z",
          "iopub.status.busy": "2022-05-25T16:12:31.424950Z",
          "iopub.status.idle": "2022-05-25T16:12:31.627872Z",
          "shell.execute_reply": "2022-05-25T16:12:31.627087Z"
        },
        "papermill": {
          "duration": 0.23593,
          "end_time": "2022-05-25T16:12:31.629829",
          "exception": false,
          "start_time": "2022-05-25T16:12:31.393899",
          "status": "completed"
        },
        "tags": [],
        "colab": {
          "base_uri": "https://localhost:8080/",
          "height": 424
        },
        "id": "a5418591",
        "outputId": "aeee7036-65da-4615-e87c-dd30866a74c3"
      },
      "outputs": [
        {
          "output_type": "execute_result",
          "data": {
            "text/plain": [
              "               date  date_block_num  shop_id  item_id  item_price  \\\n",
              "0        02.01.2013               0       59    22154      999.00   \n",
              "1        03.01.2013               0       25     2552      899.00   \n",
              "2        05.01.2013               0       25     2552      899.00   \n",
              "3        06.01.2013               0       25     2554     1709.05   \n",
              "4        15.01.2013               0       25     2555     1099.00   \n",
              "...             ...             ...      ...      ...         ...   \n",
              "2935842  10.10.2015              33       25     7409      299.00   \n",
              "2935843  09.10.2015              33       25     7460      299.00   \n",
              "2935844  14.10.2015              33       25     7459      349.00   \n",
              "2935845  22.10.2015              33       25     7440      299.00   \n",
              "2935846  03.10.2015              33       25     7460      299.00   \n",
              "\n",
              "         item_cnt_day  \n",
              "0                 1.0  \n",
              "1                 1.0  \n",
              "2                -1.0  \n",
              "3                 1.0  \n",
              "4                 1.0  \n",
              "...               ...  \n",
              "2935842           1.0  \n",
              "2935843           1.0  \n",
              "2935844           1.0  \n",
              "2935845           1.0  \n",
              "2935846           1.0  \n",
              "\n",
              "[2935847 rows x 6 columns]"
            ],
            "text/html": [
              "\n",
              "  <div id=\"df-c6386b70-602b-4e1d-a79f-4860aaf79e21\">\n",
              "    <div class=\"colab-df-container\">\n",
              "      <div>\n",
              "<style scoped>\n",
              "    .dataframe tbody tr th:only-of-type {\n",
              "        vertical-align: middle;\n",
              "    }\n",
              "\n",
              "    .dataframe tbody tr th {\n",
              "        vertical-align: top;\n",
              "    }\n",
              "\n",
              "    .dataframe thead th {\n",
              "        text-align: right;\n",
              "    }\n",
              "</style>\n",
              "<table border=\"1\" class=\"dataframe\">\n",
              "  <thead>\n",
              "    <tr style=\"text-align: right;\">\n",
              "      <th></th>\n",
              "      <th>date</th>\n",
              "      <th>date_block_num</th>\n",
              "      <th>shop_id</th>\n",
              "      <th>item_id</th>\n",
              "      <th>item_price</th>\n",
              "      <th>item_cnt_day</th>\n",
              "    </tr>\n",
              "  </thead>\n",
              "  <tbody>\n",
              "    <tr>\n",
              "      <th>0</th>\n",
              "      <td>02.01.2013</td>\n",
              "      <td>0</td>\n",
              "      <td>59</td>\n",
              "      <td>22154</td>\n",
              "      <td>999.00</td>\n",
              "      <td>1.0</td>\n",
              "    </tr>\n",
              "    <tr>\n",
              "      <th>1</th>\n",
              "      <td>03.01.2013</td>\n",
              "      <td>0</td>\n",
              "      <td>25</td>\n",
              "      <td>2552</td>\n",
              "      <td>899.00</td>\n",
              "      <td>1.0</td>\n",
              "    </tr>\n",
              "    <tr>\n",
              "      <th>2</th>\n",
              "      <td>05.01.2013</td>\n",
              "      <td>0</td>\n",
              "      <td>25</td>\n",
              "      <td>2552</td>\n",
              "      <td>899.00</td>\n",
              "      <td>-1.0</td>\n",
              "    </tr>\n",
              "    <tr>\n",
              "      <th>3</th>\n",
              "      <td>06.01.2013</td>\n",
              "      <td>0</td>\n",
              "      <td>25</td>\n",
              "      <td>2554</td>\n",
              "      <td>1709.05</td>\n",
              "      <td>1.0</td>\n",
              "    </tr>\n",
              "    <tr>\n",
              "      <th>4</th>\n",
              "      <td>15.01.2013</td>\n",
              "      <td>0</td>\n",
              "      <td>25</td>\n",
              "      <td>2555</td>\n",
              "      <td>1099.00</td>\n",
              "      <td>1.0</td>\n",
              "    </tr>\n",
              "    <tr>\n",
              "      <th>...</th>\n",
              "      <td>...</td>\n",
              "      <td>...</td>\n",
              "      <td>...</td>\n",
              "      <td>...</td>\n",
              "      <td>...</td>\n",
              "      <td>...</td>\n",
              "    </tr>\n",
              "    <tr>\n",
              "      <th>2935842</th>\n",
              "      <td>10.10.2015</td>\n",
              "      <td>33</td>\n",
              "      <td>25</td>\n",
              "      <td>7409</td>\n",
              "      <td>299.00</td>\n",
              "      <td>1.0</td>\n",
              "    </tr>\n",
              "    <tr>\n",
              "      <th>2935843</th>\n",
              "      <td>09.10.2015</td>\n",
              "      <td>33</td>\n",
              "      <td>25</td>\n",
              "      <td>7460</td>\n",
              "      <td>299.00</td>\n",
              "      <td>1.0</td>\n",
              "    </tr>\n",
              "    <tr>\n",
              "      <th>2935844</th>\n",
              "      <td>14.10.2015</td>\n",
              "      <td>33</td>\n",
              "      <td>25</td>\n",
              "      <td>7459</td>\n",
              "      <td>349.00</td>\n",
              "      <td>1.0</td>\n",
              "    </tr>\n",
              "    <tr>\n",
              "      <th>2935845</th>\n",
              "      <td>22.10.2015</td>\n",
              "      <td>33</td>\n",
              "      <td>25</td>\n",
              "      <td>7440</td>\n",
              "      <td>299.00</td>\n",
              "      <td>1.0</td>\n",
              "    </tr>\n",
              "    <tr>\n",
              "      <th>2935846</th>\n",
              "      <td>03.10.2015</td>\n",
              "      <td>33</td>\n",
              "      <td>25</td>\n",
              "      <td>7460</td>\n",
              "      <td>299.00</td>\n",
              "      <td>1.0</td>\n",
              "    </tr>\n",
              "  </tbody>\n",
              "</table>\n",
              "<p>2935847 rows × 6 columns</p>\n",
              "</div>\n",
              "      <button class=\"colab-df-convert\" onclick=\"convertToInteractive('df-c6386b70-602b-4e1d-a79f-4860aaf79e21')\"\n",
              "              title=\"Convert this dataframe to an interactive table.\"\n",
              "              style=\"display:none;\">\n",
              "        \n",
              "  <svg xmlns=\"http://www.w3.org/2000/svg\" height=\"24px\"viewBox=\"0 0 24 24\"\n",
              "       width=\"24px\">\n",
              "    <path d=\"M0 0h24v24H0V0z\" fill=\"none\"/>\n",
              "    <path d=\"M18.56 5.44l.94 2.06.94-2.06 2.06-.94-2.06-.94-.94-2.06-.94 2.06-2.06.94zm-11 1L8.5 8.5l.94-2.06 2.06-.94-2.06-.94L8.5 2.5l-.94 2.06-2.06.94zm10 10l.94 2.06.94-2.06 2.06-.94-2.06-.94-.94-2.06-.94 2.06-2.06.94z\"/><path d=\"M17.41 7.96l-1.37-1.37c-.4-.4-.92-.59-1.43-.59-.52 0-1.04.2-1.43.59L10.3 9.45l-7.72 7.72c-.78.78-.78 2.05 0 2.83L4 21.41c.39.39.9.59 1.41.59.51 0 1.02-.2 1.41-.59l7.78-7.78 2.81-2.81c.8-.78.8-2.07 0-2.86zM5.41 20L4 18.59l7.72-7.72 1.47 1.35L5.41 20z\"/>\n",
              "  </svg>\n",
              "      </button>\n",
              "      \n",
              "  <style>\n",
              "    .colab-df-container {\n",
              "      display:flex;\n",
              "      flex-wrap:wrap;\n",
              "      gap: 12px;\n",
              "    }\n",
              "\n",
              "    .colab-df-convert {\n",
              "      background-color: #E8F0FE;\n",
              "      border: none;\n",
              "      border-radius: 50%;\n",
              "      cursor: pointer;\n",
              "      display: none;\n",
              "      fill: #1967D2;\n",
              "      height: 32px;\n",
              "      padding: 0 0 0 0;\n",
              "      width: 32px;\n",
              "    }\n",
              "\n",
              "    .colab-df-convert:hover {\n",
              "      background-color: #E2EBFA;\n",
              "      box-shadow: 0px 1px 2px rgba(60, 64, 67, 0.3), 0px 1px 3px 1px rgba(60, 64, 67, 0.15);\n",
              "      fill: #174EA6;\n",
              "    }\n",
              "\n",
              "    [theme=dark] .colab-df-convert {\n",
              "      background-color: #3B4455;\n",
              "      fill: #D2E3FC;\n",
              "    }\n",
              "\n",
              "    [theme=dark] .colab-df-convert:hover {\n",
              "      background-color: #434B5C;\n",
              "      box-shadow: 0px 1px 3px 1px rgba(0, 0, 0, 0.15);\n",
              "      filter: drop-shadow(0px 1px 2px rgba(0, 0, 0, 0.3));\n",
              "      fill: #FFFFFF;\n",
              "    }\n",
              "  </style>\n",
              "\n",
              "      <script>\n",
              "        const buttonEl =\n",
              "          document.querySelector('#df-c6386b70-602b-4e1d-a79f-4860aaf79e21 button.colab-df-convert');\n",
              "        buttonEl.style.display =\n",
              "          google.colab.kernel.accessAllowed ? 'block' : 'none';\n",
              "\n",
              "        async function convertToInteractive(key) {\n",
              "          const element = document.querySelector('#df-c6386b70-602b-4e1d-a79f-4860aaf79e21');\n",
              "          const dataTable =\n",
              "            await google.colab.kernel.invokeFunction('convertToInteractive',\n",
              "                                                     [key], {});\n",
              "          if (!dataTable) return;\n",
              "\n",
              "          const docLinkHtml = 'Like what you see? Visit the ' +\n",
              "            '<a target=\"_blank\" href=https://colab.research.google.com/notebooks/data_table.ipynb>data table notebook</a>'\n",
              "            + ' to learn more about interactive tables.';\n",
              "          element.innerHTML = '';\n",
              "          dataTable['output_type'] = 'display_data';\n",
              "          await google.colab.output.renderOutput(dataTable, element);\n",
              "          const docLink = document.createElement('div');\n",
              "          docLink.innerHTML = docLinkHtml;\n",
              "          element.appendChild(docLink);\n",
              "        }\n",
              "      </script>\n",
              "    </div>\n",
              "  </div>\n",
              "  "
            ]
          },
          "metadata": {},
          "execution_count": 5
        }
      ],
      "source": [
        "# Remove Outliers\n",
        "\n",
        "outlier1 = sales_train[sales_train['item_cnt_day'] > 2000].index[0]\n",
        "outlier2 = sales_train[sales_train['item_price'] > 300000].index[0]\n",
        "sales_train.drop([outlier1,outlier2], axis = 0, inplace = True)\n",
        "\n",
        "# Reset index\n",
        "\n",
        "sales_train.reset_index(inplace=True,drop=True)\n",
        "sales_train"
      ]
    },
    {
      "cell_type": "code",
      "execution_count": 6,
      "id": "d9a456d7",
      "metadata": {
        "execution": {
          "iopub.execute_input": "2022-05-25T16:12:31.698801Z",
          "iopub.status.busy": "2022-05-25T16:12:31.698144Z",
          "iopub.status.idle": "2022-05-25T16:12:32.684849Z",
          "shell.execute_reply": "2022-05-25T16:12:32.684126Z"
        },
        "papermill": {
          "duration": 1.022255,
          "end_time": "2022-05-25T16:12:32.687030",
          "exception": false,
          "start_time": "2022-05-25T16:12:31.664775",
          "status": "completed"
        },
        "tags": [],
        "colab": {
          "base_uri": "https://localhost:8080/",
          "height": 389
        },
        "id": "d9a456d7",
        "outputId": "752f7cf9-b423-4a88-d1c6-da63c1a53b6d"
      },
      "outputs": [
        {
          "output_type": "display_data",
          "data": {
            "text/plain": [
              "<Figure size 1440x432 with 2 Axes>"
            ],
            "image/png": "[encoded data removed]"
          },
          "metadata": {
            "needs_background": "light"
          }
        }
      ],
      "source": [
        "# Find anomalies in the columns sales_train.'item_cnt_day',sales_train.'item_price'\n",
        "cols = ['item_cnt_day','item_price']\n",
        "fig, ax = plt.subplots(ncols = len(cols), figsize = (10 * len(cols),6), sharex = True)\n",
        "fig.subplots_adjust(wspace=0.2)\n",
        "\n",
        "for i in range(len(cols)):\n",
        "  ax[i].plot(sales_train[cols[i]])\n",
        "  ax[i].set_xlabel(cols[i])\n",
        "  ax[i].set_ylabel(\"Count\")"
      ]
    },
    {
      "cell_type": "markdown",
      "id": "733fa2e8",
      "metadata": {
        "papermill": {
          "duration": 0.032485,
          "end_time": "2022-05-25T16:12:32.752117",
          "exception": false,
          "start_time": "2022-05-25T16:12:32.719632",
          "status": "completed"
        },
        "tags": [],
        "id": "733fa2e8"
      },
      "source": [
        "**Observations:**\n",
        "\n",
        "Column 'item_cnt_day' has some negative values which could be items that were 'returned'. Since we will be considering monthly counts, we will leave the negative values in there so that we get a correct count of items sold when we aggregrate by month"
      ]
    },
    {
      "cell_type": "markdown",
      "id": "3365a8e9",
      "metadata": {
        "papermill": {
          "duration": 0.033308,
          "end_time": "2022-05-25T16:12:32.817185",
          "exception": false,
          "start_time": "2022-05-25T16:12:32.783877",
          "status": "completed"
        },
        "tags": [],
        "id": "3365a8e9"
      },
      "source": [
        "**Feature Engineering**"
      ]
    },
    {
      "cell_type": "code",
      "execution_count": 7,
      "id": "9ad38a0b",
      "metadata": {
        "execution": {
          "iopub.execute_input": "2022-05-25T16:12:32.883453Z",
          "iopub.status.busy": "2022-05-25T16:12:32.883187Z",
          "iopub.status.idle": "2022-05-25T16:12:35.888099Z",
          "shell.execute_reply": "2022-05-25T16:12:35.887292Z"
        },
        "papermill": {
          "duration": 3.040841,
          "end_time": "2022-05-25T16:12:35.890472",
          "exception": false,
          "start_time": "2022-05-25T16:12:32.849631",
          "status": "completed"
        },
        "tags": [],
        "colab": {
          "base_uri": "https://localhost:8080/",
          "height": 486
        },
        "id": "9ad38a0b",
        "outputId": "557a2911-5da8-44cb-94d3-2964dd9e004f"
      },
      "outputs": [
        {
          "output_type": "execute_result",
          "data": {
            "text/plain": [
              "                           item_cnt_day                              ...     \\\n",
              "date_block_num                       0   1  2  3  4  5  6  7  8  9   ... 24   \n",
              "shop_id item_id item_price                                           ...      \n",
              "0       30      265.0                 0  31  0  0  0  0  0  0  0  0  ...  0   \n",
              "        31      434.0                 0  11  0  0  0  0  0  0  0  0  ...  0   \n",
              "        32      221.0                 6  10  0  0  0  0  0  0  0  0  ...  0   \n",
              "        33      347.0                 3   3  0  0  0  0  0  0  0  0  ...  0   \n",
              "        35      247.0                 1  14  0  0  0  0  0  0  0  0  ...  0   \n",
              "...                                 ...  .. .. .. .. .. .. .. .. ..  ... ..   \n",
              "59      22162   349.0                 0   0  0  0  0  0  0  0  0  0  ...  0   \n",
              "                399.0                 0   0  0  0  0  0  0  0  0  0  ...  0   \n",
              "        22164   699.0                 0   0  0  0  0  0  0  0  0  0  ...  0   \n",
              "                749.0                 0   0  0  0  0  0  0  0  0  0  ...  0   \n",
              "        22167   299.0                 0   0  0  0  0  0  0  0  0  1  ...  0   \n",
              "\n",
              "                                                       \n",
              "date_block_num             25 26 27 28 29 30 31 32 33  \n",
              "shop_id item_id item_price                             \n",
              "0       30      265.0       0  0  0  0  0  0  0  0  0  \n",
              "        31      434.0       0  0  0  0  0  0  0  0  0  \n",
              "        32      221.0       0  0  0  0  0  0  0  0  0  \n",
              "        33      347.0       0  0  0  0  0  0  0  0  0  \n",
              "        35      247.0       0  0  0  0  0  0  0  0  0  \n",
              "...                        .. .. .. .. .. .. .. .. ..  \n",
              "59      22162   349.0       0  0  1  1  0  0  1  0  0  \n",
              "                399.0       9  4  0  0  0  0  0  0  0  \n",
              "        22164   699.0       0  0  2  0  0  1  0  0  0  \n",
              "                749.0       2  1  0  0  0  0  0  0  0  \n",
              "        22167   299.0       0  0  0  0  0  0  0  0  0  \n",
              "\n",
              "[737818 rows x 34 columns]"
            ],
            "text/html": [
              "\n",
              "  <div id=\"df-b1ecb4bf-36a9-411a-afc7-8cabdd2bdcab\">\n",
              "    <div class=\"colab-df-container\">\n",
              "      <div>\n",
              "<style scoped>\n",
              "    .dataframe tbody tr th:only-of-type {\n",
              "        vertical-align: middle;\n",
              "    }\n",
              "\n",
              "    .dataframe tbody tr th {\n",
              "        vertical-align: top;\n",
              "    }\n",
              "\n",
              "    .dataframe thead tr th {\n",
              "        text-align: left;\n",
              "    }\n",
              "\n",
              "    .dataframe thead tr:last-of-type th {\n",
              "        text-align: right;\n",
              "    }\n",
              "</style>\n",
              "<table border=\"1\" class=\"dataframe\">\n",
              "  <thead>\n",
              "    <tr>\n",
              "      <th></th>\n",
              "      <th></th>\n",
              "      <th></th>\n",
              "      <th colspan=\"21\" halign=\"left\">item_cnt_day</th>\n",
              "    </tr>\n",
              "    <tr>\n",
              "      <th></th>\n",
              "      <th></th>\n",
              "      <th>date_block_num</th>\n",
              "      <th>0</th>\n",
              "      <th>1</th>\n",
              "      <th>2</th>\n",
              "      <th>3</th>\n",
              "      <th>4</th>\n",
              "      <th>5</th>\n",
              "      <th>6</th>\n",
              "      <th>7</th>\n",
              "      <th>8</th>\n",
              "      <th>9</th>\n",
              "      <th>...</th>\n",
              "      <th>24</th>\n",
              "      <th>25</th>\n",
              "      <th>26</th>\n",
              "      <th>27</th>\n",
              "      <th>28</th>\n",
              "      <th>29</th>\n",
              "      <th>30</th>\n",
              "      <th>31</th>\n",
              "      <th>32</th>\n",
              "      <th>33</th>\n",
              "    </tr>\n",
              "    <tr>\n",
              "      <th>shop_id</th>\n",
              "      <th>item_id</th>\n",
              "      <th>item_price</th>\n",
              "      <th></th>\n",
              "      <th></th>\n",
              "      <th></th>\n",
              "      <th></th>\n",
              "      <th></th>\n",
              "      <th></th>\n",
              "      <th></th>\n",
              "      <th></th>\n",
              "      <th></th>\n",
              "      <th></th>\n",
              "      <th></th>\n",
              "      <th></th>\n",
              "      <th></th>\n",
              "      <th></th>\n",
              "      <th></th>\n",
              "      <th></th>\n",
              "      <th></th>\n",
              "      <th></th>\n",
              "      <th></th>\n",
              "      <th></th>\n",
              "      <th></th>\n",
              "    </tr>\n",
              "  </thead>\n",
              "  <tbody>\n",
              "    <tr>\n",
              "      <th rowspan=\"5\" valign=\"top\">0</th>\n",
              "      <th>30</th>\n",
              "      <th>265.0</th>\n",
              "      <td>0</td>\n",
              "      <td>31</td>\n",
              "      <td>0</td>\n",
              "      <td>0</td>\n",
              "      <td>0</td>\n",
              "      <td>0</td>\n",
              "      <td>0</td>\n",
              "      <td>0</td>\n",
              "      <td>0</td>\n",
              "      <td>0</td>\n",
              "      <td>...</td>\n",
              "      <td>0</td>\n",
              "      <td>0</td>\n",
              "      <td>0</td>\n",
              "      <td>0</td>\n",
              "      <td>0</td>\n",
              "      <td>0</td>\n",
              "      <td>0</td>\n",
              "      <td>0</td>\n",
              "      <td>0</td>\n",
              "      <td>0</td>\n",
              "    </tr>\n",
              "    <tr>\n",
              "      <th>31</th>\n",
              "      <th>434.0</th>\n",
              "      <td>0</td>\n",
              "      <td>11</td>\n",
              "      <td>0</td>\n",
              "      <td>0</td>\n",
              "      <td>0</td>\n",
              "      <td>0</td>\n",
              "      <td>0</td>\n",
              "      <td>0</td>\n",
              "      <td>0</td>\n",
              "      <td>0</td>\n",
              "      <td>...</td>\n",
              "      <td>0</td>\n",
              "      <td>0</td>\n",
              "      <td>0</td>\n",
              "      <td>0</td>\n",
              "      <td>0</td>\n",
              "      <td>0</td>\n",
              "      <td>0</td>\n",
              "      <td>0</td>\n",
              "      <td>0</td>\n",
              "      <td>0</td>\n",
              "    </tr>\n",
              "    <tr>\n",
              "      <th>32</th>\n",
              "      <th>221.0</th>\n",
              "      <td>6</td>\n",
              "      <td>10</td>\n",
              "      <td>0</td>\n",
              "      <td>0</td>\n",
              "      <td>0</td>\n",
              "      <td>0</td>\n",
              "      <td>0</td>\n",
              "      <td>0</td>\n",
              "      <td>0</td>\n",
              "      <td>0</td>\n",
              "      <td>...</td>\n",
              "      <td>0</td>\n",
              "      <td>0</td>\n",
              "      <td>0</td>\n",
              "      <td>0</td>\n",
              "      <td>0</td>\n",
              "      <td>0</td>\n",
              "      <td>0</td>\n",
              "      <td>0</td>\n",
              "      <td>0</td>\n",
              "      <td>0</td>\n",
              "    </tr>\n",
              "    <tr>\n",
              "      <th>33</th>\n",
              "      <th>347.0</th>\n",
              "      <td>3</td>\n",
              "      <td>3</td>\n",
              "      <td>0</td>\n",
              "      <td>0</td>\n",
              "      <td>0</td>\n",
              "      <td>0</td>\n",
              "      <td>0</td>\n",
              "      <td>0</td>\n",
              "      <td>0</td>\n",
              "      <td>0</td>\n",
              "      <td>...</td>\n",
              "      <td>0</td>\n",
              "      <td>0</td>\n",
              "      <td>0</td>\n",
              "      <td>0</td>\n",
              "      <td>0</td>\n",
              "      <td>0</td>\n",
              "      <td>0</td>\n",
              "      <td>0</td>\n",
              "      <td>0</td>\n",
              "      <td>0</td>\n",
              "    </tr>\n",
              "    <tr>\n",
              "      <th>35</th>\n",
              "      <th>247.0</th>\n",
              "      <td>1</td>\n",
              "      <td>14</td>\n",
              "      <td>0</td>\n",
              "      <td>0</td>\n",
              "      <td>0</td>\n",
              "      <td>0</td>\n",
              "      <td>0</td>\n",
              "      <td>0</td>\n",
              "      <td>0</td>\n",
              "      <td>0</td>\n",
              "      <td>...</td>\n",
              "      <td>0</td>\n",
              "      <td>0</td>\n",
              "      <td>0</td>\n",
              "      <td>0</td>\n",
              "      <td>0</td>\n",
              "      <td>0</td>\n",
              "      <td>0</td>\n",
              "      <td>0</td>\n",
              "      <td>0</td>\n",
              "      <td>0</td>\n",
              "    </tr>\n",
              "    <tr>\n",
              "      <th>...</th>\n",
              "      <th>...</th>\n",
              "      <th>...</th>\n",
              "      <td>...</td>\n",
              "      <td>...</td>\n",
              "      <td>...</td>\n",
              "      <td>...</td>\n",
              "      <td>...</td>\n",
              "      <td>...</td>\n",
              "      <td>...</td>\n",
              "      <td>...</td>\n",
              "      <td>...</td>\n",
              "      <td>...</td>\n",
              "      <td>...</td>\n",
              "      <td>...</td>\n",
              "      <td>...</td>\n",
              "      <td>...</td>\n",
              "      <td>...</td>\n",
              "      <td>...</td>\n",
              "      <td>...</td>\n",
              "      <td>...</td>\n",
              "      <td>...</td>\n",
              "      <td>...</td>\n",
              "      <td>...</td>\n",
              "    </tr>\n",
              "    <tr>\n",
              "      <th rowspan=\"5\" valign=\"top\">59</th>\n",
              "      <th rowspan=\"2\" valign=\"top\">22162</th>\n",
              "      <th>349.0</th>\n",
              "      <td>0</td>\n",
              "      <td>0</td>\n",
              "      <td>0</td>\n",
              "      <td>0</td>\n",
              "      <td>0</td>\n",
              "      <td>0</td>\n",
              "      <td>0</td>\n",
              "      <td>0</td>\n",
              "      <td>0</td>\n",
              "      <td>0</td>\n",
              "      <td>...</td>\n",
              "      <td>0</td>\n",
              "      <td>0</td>\n",
              "      <td>0</td>\n",
              "      <td>1</td>\n",
              "      <td>1</td>\n",
              "      <td>0</td>\n",
              "      <td>0</td>\n",
              "      <td>1</td>\n",
              "      <td>0</td>\n",
              "      <td>0</td>\n",
              "    </tr>\n",
              "    <tr>\n",
              "      <th>399.0</th>\n",
              "      <td>0</td>\n",
              "      <td>0</td>\n",
              "      <td>0</td>\n",
              "      <td>0</td>\n",
              "      <td>0</td>\n",
              "      <td>0</td>\n",
              "      <td>0</td>\n",
              "      <td>0</td>\n",
              "      <td>0</td>\n",
              "      <td>0</td>\n",
              "      <td>...</td>\n",
              "      <td>0</td>\n",
              "      <td>9</td>\n",
              "      <td>4</td>\n",
              "      <td>0</td>\n",
              "      <td>0</td>\n",
              "      <td>0</td>\n",
              "      <td>0</td>\n",
              "      <td>0</td>\n",
              "      <td>0</td>\n",
              "      <td>0</td>\n",
              "    </tr>\n",
              "    <tr>\n",
              "      <th rowspan=\"2\" valign=\"top\">22164</th>\n",
              "      <th>699.0</th>\n",
              "      <td>0</td>\n",
              "      <td>0</td>\n",
              "      <td>0</td>\n",
              "      <td>0</td>\n",
              "      <td>0</td>\n",
              "      <td>0</td>\n",
              "      <td>0</td>\n",
              "      <td>0</td>\n",
              "      <td>0</td>\n",
              "      <td>0</td>\n",
              "      <td>...</td>\n",
              "      <td>0</td>\n",
              "      <td>0</td>\n",
              "      <td>0</td>\n",
              "      <td>2</td>\n",
              "      <td>0</td>\n",
              "      <td>0</td>\n",
              "      <td>1</td>\n",
              "      <td>0</td>\n",
              "      <td>0</td>\n",
              "      <td>0</td>\n",
              "    </tr>\n",
              "    <tr>\n",
              "      <th>749.0</th>\n",
              "      <td>0</td>\n",
              "      <td>0</td>\n",
              "      <td>0</td>\n",
              "      <td>0</td>\n",
              "      <td>0</td>\n",
              "      <td>0</td>\n",
              "      <td>0</td>\n",
              "      <td>0</td>\n",
              "      <td>0</td>\n",
              "      <td>0</td>\n",
              "      <td>...</td>\n",
              "      <td>0</td>\n",
              "      <td>2</td>\n",
              "      <td>1</td>\n",
              "      <td>0</td>\n",
              "      <td>0</td>\n",
              "      <td>0</td>\n",
              "      <td>0</td>\n",
              "      <td>0</td>\n",
              "      <td>0</td>\n",
              "      <td>0</td>\n",
              "    </tr>\n",
              "    <tr>\n",
              "      <th>22167</th>\n",
              "      <th>299.0</th>\n",
              "      <td>0</td>\n",
              "      <td>0</td>\n",
              "      <td>0</td>\n",
              "      <td>0</td>\n",
              "      <td>0</td>\n",
              "      <td>0</td>\n",
              "      <td>0</td>\n",
              "      <td>0</td>\n",
              "      <td>0</td>\n",
              "      <td>1</td>\n",
              "      <td>...</td>\n",
              "      <td>0</td>\n",
              "      <td>0</td>\n",
              "      <td>0</td>\n",
              "      <td>0</td>\n",
              "      <td>0</td>\n",
              "      <td>0</td>\n",
              "      <td>0</td>\n",
              "      <td>0</td>\n",
              "      <td>0</td>\n",
              "      <td>0</td>\n",
              "    </tr>\n",
              "  </tbody>\n",
              "</table>\n",
              "<p>737818 rows × 34 columns</p>\n",
              "</div>\n",
              "      <button class=\"colab-df-convert\" onclick=\"convertToInteractive('df-b1ecb4bf-36a9-411a-afc7-8cabdd2bdcab')\"\n",
              "              title=\"Convert this dataframe to an interactive table.\"\n",
              "              style=\"display:none;\">\n",
              "        \n",
              "  <svg xmlns=\"http://www.w3.org/2000/svg\" height=\"24px\"viewBox=\"0 0 24 24\"\n",
              "       width=\"24px\">\n",
              "    <path d=\"M0 0h24v24H0V0z\" fill=\"none\"/>\n",
              "    <path d=\"M18.56 5.44l.94 2.06.94-2.06 2.06-.94-2.06-.94-.94-2.06-.94 2.06-2.06.94zm-11 1L8.5 8.5l.94-2.06 2.06-.94-2.06-.94L8.5 2.5l-.94 2.06-2.06.94zm10 10l.94 2.06.94-2.06 2.06-.94-2.06-.94-.94-2.06-.94 2.06-2.06.94z\"/><path d=\"M17.41 7.96l-1.37-1.37c-.4-.4-.92-.59-1.43-.59-.52 0-1.04.2-1.43.59L10.3 9.45l-7.72 7.72c-.78.78-.78 2.05 0 2.83L4 21.41c.39.39.9.59 1.41.59.51 0 1.02-.2 1.41-.59l7.78-7.78 2.81-2.81c.8-.78.8-2.07 0-2.86zM5.41 20L4 18.59l7.72-7.72 1.47 1.35L5.41 20z\"/>\n",
              "  </svg>\n",
              "      </button>\n",
              "      \n",
              "  <style>\n",
              "    .colab-df-container {\n",
              "      display:flex;\n",
              "      flex-wrap:wrap;\n",
              "      gap: 12px;\n",
              "    }\n",
              "\n",
              "    .colab-df-convert {\n",
              "      background-color: #E8F0FE;\n",
              "      border: none;\n",
              "      border-radius: 50%;\n",
              "      cursor: pointer;\n",
              "      display: none;\n",
              "      fill: #1967D2;\n",
              "      height: 32px;\n",
              "      padding: 0 0 0 0;\n",
              "      width: 32px;\n",
              "    }\n",
              "\n",
              "    .colab-df-convert:hover {\n",
              "      background-color: #E2EBFA;\n",
              "      box-shadow: 0px 1px 2px rgba(60, 64, 67, 0.3), 0px 1px 3px 1px rgba(60, 64, 67, 0.15);\n",
              "      fill: #174EA6;\n",
              "    }\n",
              "\n",
              "    [theme=dark] .colab-df-convert {\n",
              "      background-color: #3B4455;\n",
              "      fill: #D2E3FC;\n",
              "    }\n",
              "\n",
              "    [theme=dark] .colab-df-convert:hover {\n",
              "      background-color: #434B5C;\n",
              "      box-shadow: 0px 1px 3px 1px rgba(0, 0, 0, 0.15);\n",
              "      filter: drop-shadow(0px 1px 2px rgba(0, 0, 0, 0.3));\n",
              "      fill: #FFFFFF;\n",
              "    }\n",
              "  </style>\n",
              "\n",
              "      <script>\n",
              "        const buttonEl =\n",
              "          document.querySelector('#df-b1ecb4bf-36a9-411a-afc7-8cabdd2bdcab button.colab-df-convert');\n",
              "        buttonEl.style.display =\n",
              "          google.colab.kernel.accessAllowed ? 'block' : 'none';\n",
              "\n",
              "        async function convertToInteractive(key) {\n",
              "          const element = document.querySelector('#df-b1ecb4bf-36a9-411a-afc7-8cabdd2bdcab');\n",
              "          const dataTable =\n",
              "            await google.colab.kernel.invokeFunction('convertToInteractive',\n",
              "                                                     [key], {});\n",
              "          if (!dataTable) return;\n",
              "\n",
              "          const docLinkHtml = 'Like what you see? Visit the ' +\n",
              "            '<a target=\"_blank\" href=https://colab.research.google.com/notebooks/data_table.ipynb>data table notebook</a>'\n",
              "            + ' to learn more about interactive tables.';\n",
              "          element.innerHTML = '';\n",
              "          dataTable['output_type'] = 'display_data';\n",
              "          await google.colab.output.renderOutput(dataTable, element);\n",
              "          const docLink = document.createElement('div');\n",
              "          docLink.innerHTML = docLinkHtml;\n",
              "          element.appendChild(docLink);\n",
              "        }\n",
              "      </script>\n",
              "    </div>\n",
              "  </div>\n",
              "  "
            ]
          },
          "metadata": {},
          "execution_count": 7
        }
      ],
      "source": [
        "dataset = sales_train.pivot_table(index = ['shop_id','item_id', 'item_price'],\n",
        "                  values = ['item_cnt_day'],\n",
        "                  columns = ['date_block_num'],\n",
        "                  fill_value = 0,\n",
        "                 aggfunc='sum')\n",
        "\n",
        "dataset"
      ]
    },
    {
      "cell_type": "code",
      "source": [
        "dataset.index"
      ],
      "metadata": {
        "colab": {
          "base_uri": "https://localhost:8080/"
        },
        "id": "YtldM5VwByJr",
        "outputId": "3a8ac957-d6ed-4ac5-c718-98ee1cfa971a"
      },
      "id": "YtldM5VwByJr",
      "execution_count": 9,
      "outputs": [
        {
          "output_type": "execute_result",
          "data": {
            "text/plain": [
              "MultiIndex([( 0,    30,  265.0),\n",
              "            ( 0,    31,  434.0),\n",
              "            ( 0,    32,  221.0),\n",
              "            ( 0,    33,  347.0),\n",
              "            ( 0,    35,  247.0),\n",
              "            ( 0,    36,  357.0),\n",
              "            ( 0,    40,  127.0),\n",
              "            ( 0,    42,  127.0),\n",
              "            ( 0,    43,  221.0),\n",
              "            ( 0,    49,  127.0),\n",
              "            ...\n",
              "            (59, 22150,  199.0),\n",
              "            (59, 22151,  399.0),\n",
              "            (59, 22153, 135.33),\n",
              "            (59, 22154,  999.0),\n",
              "            (59, 22155,  149.0),\n",
              "            (59, 22162,  349.0),\n",
              "            (59, 22162,  399.0),\n",
              "            (59, 22164,  699.0),\n",
              "            (59, 22164,  749.0),\n",
              "            (59, 22167,  299.0)],\n",
              "           names=['shop_id', 'item_id', 'item_price'], length=737818)"
            ]
          },
          "metadata": {},
          "execution_count": 9
        }
      ]
    },
    {
      "cell_type": "code",
      "source": [
        "dataset.values[0]"
      ],
      "metadata": {
        "colab": {
          "base_uri": "https://localhost:8080/"
        },
        "id": "Q_s3PN71Kc5J",
        "outputId": "c34c2b7a-1ad8-4569-c14d-049d92c2977d"
      },
      "id": "Q_s3PN71Kc5J",
      "execution_count": 10,
      "outputs": [
        {
          "output_type": "execute_result",
          "data": {
            "text/plain": [
              "array([ 0, 31,  0,  0,  0,  0,  0,  0,  0,  0,  0,  0,  0,  0,  0,  0,  0,\n",
              "        0,  0,  0,  0,  0,  0,  0,  0,  0,  0,  0,  0,  0,  0,  0,  0,  0])"
            ]
          },
          "metadata": {},
          "execution_count": 10
        }
      ]
    },
    {
      "cell_type": "code",
      "execution_count": 67,
      "id": "7a8646ad",
      "metadata": {
        "execution": {
          "iopub.execute_input": "2022-05-25T16:12:35.963654Z",
          "iopub.status.busy": "2022-05-25T16:12:35.963090Z",
          "iopub.status.idle": "2022-05-25T16:12:36.430344Z",
          "shell.execute_reply": "2022-05-25T16:12:36.429512Z"
        },
        "papermill": {
          "duration": 0.507053,
          "end_time": "2022-05-25T16:12:36.432932",
          "exception": false,
          "start_time": "2022-05-25T16:12:35.925879",
          "status": "completed"
        },
        "tags": [],
        "colab": {
          "base_uri": "https://localhost:8080/",
          "height": 540
        },
        "id": "7a8646ad",
        "outputId": "7bd861d4-ca63-4301-9d79-bfd664619930"
      },
      "outputs": [
        {
          "output_type": "stream",
          "name": "stderr",
          "text": [
            "/usr/local/lib/python3.7/dist-packages/ipykernel_launcher.py:4: FutureWarning: merging between different levels is deprecated and will be removed in a future version. (1 levels on the left,2 on the right)\n",
            "  after removing the cwd from sys.path.\n"
          ]
        },
        {
          "output_type": "execute_result",
          "data": {
            "text/plain": [
              "                 ID  (item_cnt_day, 0)  (item_cnt_day, 1)  (item_cnt_day, 2)  \\\n",
              "shop_id item_id                                                                \n",
              "5       5037      0                0.0                0.0                0.0   \n",
              "        5320      1                0.0                0.0                0.0   \n",
              "        5233      2                0.0                0.0                0.0   \n",
              "        5232      3                0.0                0.0                0.0   \n",
              "        5268      4                0.0                0.0                0.0   \n",
              "        5039      5                0.0                0.0                0.0   \n",
              "        5041      6                0.0                0.0                0.0   \n",
              "        5046      7                0.0                0.0                0.0   \n",
              "        5319      8                0.0                0.0                0.0   \n",
              "        5003      9                0.0                0.0                0.0   \n",
              "\n",
              "                 (item_cnt_day, 3)  (item_cnt_day, 4)  (item_cnt_day, 5)  \\\n",
              "shop_id item_id                                                            \n",
              "5       5037                   0.0                0.0                0.0   \n",
              "        5320                   0.0                0.0                0.0   \n",
              "        5233                   0.0                0.0                0.0   \n",
              "        5232                   0.0                0.0                0.0   \n",
              "        5268                   0.0                0.0                0.0   \n",
              "        5039                   0.0                0.0                0.0   \n",
              "        5041                   0.0                0.0                0.0   \n",
              "        5046                   0.0                0.0                0.0   \n",
              "        5319                   0.0                0.0                0.0   \n",
              "        5003                   0.0                0.0                0.0   \n",
              "\n",
              "                 (item_cnt_day, 6)  (item_cnt_day, 7)  (item_cnt_day, 8)  ...  \\\n",
              "shop_id item_id                                                           ...   \n",
              "5       5037                   0.0                0.0                0.0  ...   \n",
              "        5320                   0.0                0.0                0.0  ...   \n",
              "        5233                   0.0                0.0                0.0  ...   \n",
              "        5232                   0.0                0.0                0.0  ...   \n",
              "        5268                   0.0                0.0                0.0  ...   \n",
              "        5039                   0.0                0.0                0.0  ...   \n",
              "        5041                   0.0                0.0                0.0  ...   \n",
              "        5046                   0.0                0.0                0.0  ...   \n",
              "        5319                   0.0                0.0                0.0  ...   \n",
              "        5003                   0.0                0.0                0.0  ...   \n",
              "\n",
              "                 (item_cnt_day, 24)  (item_cnt_day, 25)  (item_cnt_day, 26)  \\\n",
              "shop_id item_id                                                               \n",
              "5       5037                    2.0                 0.0                 0.0   \n",
              "        5320                    0.0                 0.0                 0.0   \n",
              "        5233                    0.0                 0.0                 0.0   \n",
              "        5232                    0.0                 0.0                 0.0   \n",
              "        5268                    0.0                 0.0                 0.0   \n",
              "        5039                    1.0                 0.0                 0.0   \n",
              "        5041                    0.0                 0.0                 0.0   \n",
              "        5046                    0.0                 0.0                 1.0   \n",
              "        5319                    9.0                 2.0                 3.0   \n",
              "        5003                    0.0                 0.0                 0.0   \n",
              "\n",
              "                 (item_cnt_day, 27)  (item_cnt_day, 28)  (item_cnt_day, 29)  \\\n",
              "shop_id item_id                                                               \n",
              "5       5037                    0.0                 1.0                 1.0   \n",
              "        5320                    0.0                 0.0                 0.0   \n",
              "        5233                    0.0                 3.0                 2.0   \n",
              "        5232                    0.0                 0.0                 0.0   \n",
              "        5268                    0.0                 0.0                 0.0   \n",
              "        5039                    0.0                 3.0                 0.0   \n",
              "        5041                    0.0                 0.0                 0.0   \n",
              "        5046                    0.0                 0.0                 1.0   \n",
              "        5319                    2.0                 2.0                 4.0   \n",
              "        5003                    0.0                 0.0                 0.0   \n",
              "\n",
              "                 (item_cnt_day, 30)  (item_cnt_day, 31)  (item_cnt_day, 32)  \\\n",
              "shop_id item_id                                                               \n",
              "5       5037                    1.0                 3.0                 1.0   \n",
              "        5320                    0.0                 0.0                 0.0   \n",
              "        5233                    0.0                 1.0                 3.0   \n",
              "        5232                    0.0                 1.0                 0.0   \n",
              "        5268                    0.0                 0.0                 0.0   \n",
              "        5039                    0.0                 0.0                 1.0   \n",
              "        5041                    0.0                 0.0                 3.0   \n",
              "        5046                    0.0                 0.0                 0.0   \n",
              "        5319                    3.0                 2.0                 3.0   \n",
              "        5003                    0.0                 0.0                 0.0   \n",
              "\n",
              "                 (item_cnt_day, 33)  \n",
              "shop_id item_id                      \n",
              "5       5037                    0.0  \n",
              "        5320                    0.0  \n",
              "        5233                    1.0  \n",
              "        5232                    0.0  \n",
              "        5268                    0.0  \n",
              "        5039                    1.0  \n",
              "        5041                    2.0  \n",
              "        5046                    0.0  \n",
              "        5319                    0.0  \n",
              "        5003                    0.0  \n",
              "\n",
              "[10 rows x 35 columns]"
            ],
            "text/html": [
              "\n",
              "  <div id=\"df-07844c56-a304-4cc7-a3b9-72a4bc00e701\">\n",
              "    <div class=\"colab-df-container\">\n",
              "      <div>\n",
              "<style scoped>\n",
              "    .dataframe tbody tr th:only-of-type {\n",
              "        vertical-align: middle;\n",
              "    }\n",
              "\n",
              "    .dataframe tbody tr th {\n",
              "        vertical-align: top;\n",
              "    }\n",
              "\n",
              "    .dataframe thead th {\n",
              "        text-align: right;\n",
              "    }\n",
              "</style>\n",
              "<table border=\"1\" class=\"dataframe\">\n",
              "  <thead>\n",
              "    <tr style=\"text-align: right;\">\n",
              "      <th></th>\n",
              "      <th></th>\n",
              "      <th>ID</th>\n",
              "      <th>(item_cnt_day, 0)</th>\n",
              "      <th>(item_cnt_day, 1)</th>\n",
              "      <th>(item_cnt_day, 2)</th>\n",
              "      <th>(item_cnt_day, 3)</th>\n",
              "      <th>(item_cnt_day, 4)</th>\n",
              "      <th>(item_cnt_day, 5)</th>\n",
              "      <th>(item_cnt_day, 6)</th>\n",
              "      <th>(item_cnt_day, 7)</th>\n",
              "      <th>(item_cnt_day, 8)</th>\n",
              "      <th>...</th>\n",
              "      <th>(item_cnt_day, 24)</th>\n",
              "      <th>(item_cnt_day, 25)</th>\n",
              "      <th>(item_cnt_day, 26)</th>\n",
              "      <th>(item_cnt_day, 27)</th>\n",
              "      <th>(item_cnt_day, 28)</th>\n",
              "      <th>(item_cnt_day, 29)</th>\n",
              "      <th>(item_cnt_day, 30)</th>\n",
              "      <th>(item_cnt_day, 31)</th>\n",
              "      <th>(item_cnt_day, 32)</th>\n",
              "      <th>(item_cnt_day, 33)</th>\n",
              "    </tr>\n",
              "    <tr>\n",
              "      <th>shop_id</th>\n",
              "      <th>item_id</th>\n",
              "      <th></th>\n",
              "      <th></th>\n",
              "      <th></th>\n",
              "      <th></th>\n",
              "      <th></th>\n",
              "      <th></th>\n",
              "      <th></th>\n",
              "      <th></th>\n",
              "      <th></th>\n",
              "      <th></th>\n",
              "      <th></th>\n",
              "      <th></th>\n",
              "      <th></th>\n",
              "      <th></th>\n",
              "      <th></th>\n",
              "      <th></th>\n",
              "      <th></th>\n",
              "      <th></th>\n",
              "      <th></th>\n",
              "      <th></th>\n",
              "      <th></th>\n",
              "    </tr>\n",
              "  </thead>\n",
              "  <tbody>\n",
              "    <tr>\n",
              "      <th rowspan=\"10\" valign=\"top\">5</th>\n",
              "      <th>5037</th>\n",
              "      <td>0</td>\n",
              "      <td>0.0</td>\n",
              "      <td>0.0</td>\n",
              "      <td>0.0</td>\n",
              "      <td>0.0</td>\n",
              "      <td>0.0</td>\n",
              "      <td>0.0</td>\n",
              "      <td>0.0</td>\n",
              "      <td>0.0</td>\n",
              "      <td>0.0</td>\n",
              "      <td>...</td>\n",
              "      <td>2.0</td>\n",
              "      <td>0.0</td>\n",
              "      <td>0.0</td>\n",
              "      <td>0.0</td>\n",
              "      <td>1.0</td>\n",
              "      <td>1.0</td>\n",
              "      <td>1.0</td>\n",
              "      <td>3.0</td>\n",
              "      <td>1.0</td>\n",
              "      <td>0.0</td>\n",
              "    </tr>\n",
              "    <tr>\n",
              "      <th>5320</th>\n",
              "      <td>1</td>\n",
              "      <td>0.0</td>\n",
              "      <td>0.0</td>\n",
              "      <td>0.0</td>\n",
              "      <td>0.0</td>\n",
              "      <td>0.0</td>\n",
              "      <td>0.0</td>\n",
              "      <td>0.0</td>\n",
              "      <td>0.0</td>\n",
              "      <td>0.0</td>\n",
              "      <td>...</td>\n",
              "      <td>0.0</td>\n",
              "      <td>0.0</td>\n",
              "      <td>0.0</td>\n",
              "      <td>0.0</td>\n",
              "      <td>0.0</td>\n",
              "      <td>0.0</td>\n",
              "      <td>0.0</td>\n",
              "      <td>0.0</td>\n",
              "      <td>0.0</td>\n",
              "      <td>0.0</td>\n",
              "    </tr>\n",
              "    <tr>\n",
              "      <th>5233</th>\n",
              "      <td>2</td>\n",
              "      <td>0.0</td>\n",
              "      <td>0.0</td>\n",
              "      <td>0.0</td>\n",
              "      <td>0.0</td>\n",
              "      <td>0.0</td>\n",
              "      <td>0.0</td>\n",
              "      <td>0.0</td>\n",
              "      <td>0.0</td>\n",
              "      <td>0.0</td>\n",
              "      <td>...</td>\n",
              "      <td>0.0</td>\n",
              "      <td>0.0</td>\n",
              "      <td>0.0</td>\n",
              "      <td>0.0</td>\n",
              "      <td>3.0</td>\n",
              "      <td>2.0</td>\n",
              "      <td>0.0</td>\n",
              "      <td>1.0</td>\n",
              "      <td>3.0</td>\n",
              "      <td>1.0</td>\n",
              "    </tr>\n",
              "    <tr>\n",
              "      <th>5232</th>\n",
              "      <td>3</td>\n",
              "      <td>0.0</td>\n",
              "      <td>0.0</td>\n",
              "      <td>0.0</td>\n",
              "      <td>0.0</td>\n",
              "      <td>0.0</td>\n",
              "      <td>0.0</td>\n",
              "      <td>0.0</td>\n",
              "      <td>0.0</td>\n",
              "      <td>0.0</td>\n",
              "      <td>...</td>\n",
              "      <td>0.0</td>\n",
              "      <td>0.0</td>\n",
              "      <td>0.0</td>\n",
              "      <td>0.0</td>\n",
              "      <td>0.0</td>\n",
              "      <td>0.0</td>\n",
              "      <td>0.0</td>\n",
              "      <td>1.0</td>\n",
              "      <td>0.0</td>\n",
              "      <td>0.0</td>\n",
              "    </tr>\n",
              "    <tr>\n",
              "      <th>5268</th>\n",
              "      <td>4</td>\n",
              "      <td>0.0</td>\n",
              "      <td>0.0</td>\n",
              "      <td>0.0</td>\n",
              "      <td>0.0</td>\n",
              "      <td>0.0</td>\n",
              "      <td>0.0</td>\n",
              "      <td>0.0</td>\n",
              "      <td>0.0</td>\n",
              "      <td>0.0</td>\n",
              "      <td>...</td>\n",
              "      <td>0.0</td>\n",
              "      <td>0.0</td>\n",
              "      <td>0.0</td>\n",
              "      <td>0.0</td>\n",
              "      <td>0.0</td>\n",
              "      <td>0.0</td>\n",
              "      <td>0.0</td>\n",
              "      <td>0.0</td>\n",
              "      <td>0.0</td>\n",
              "      <td>0.0</td>\n",
              "    </tr>\n",
              "    <tr>\n",
              "      <th>5039</th>\n",
              "      <td>5</td>\n",
              "      <td>0.0</td>\n",
              "      <td>0.0</td>\n",
              "      <td>0.0</td>\n",
              "      <td>0.0</td>\n",
              "      <td>0.0</td>\n",
              "      <td>0.0</td>\n",
              "      <td>0.0</td>\n",
              "      <td>0.0</td>\n",
              "      <td>0.0</td>\n",
              "      <td>...</td>\n",
              "      <td>1.0</td>\n",
              "      <td>0.0</td>\n",
              "      <td>0.0</td>\n",
              "      <td>0.0</td>\n",
              "      <td>3.0</td>\n",
              "      <td>0.0</td>\n",
              "      <td>0.0</td>\n",
              "      <td>0.0</td>\n",
              "      <td>1.0</td>\n",
              "      <td>1.0</td>\n",
              "    </tr>\n",
              "    <tr>\n",
              "      <th>5041</th>\n",
              "      <td>6</td>\n",
              "      <td>0.0</td>\n",
              "      <td>0.0</td>\n",
              "      <td>0.0</td>\n",
              "      <td>0.0</td>\n",
              "      <td>0.0</td>\n",
              "      <td>0.0</td>\n",
              "      <td>0.0</td>\n",
              "      <td>0.0</td>\n",
              "      <td>0.0</td>\n",
              "      <td>...</td>\n",
              "      <td>0.0</td>\n",
              "      <td>0.0</td>\n",
              "      <td>0.0</td>\n",
              "      <td>0.0</td>\n",
              "      <td>0.0</td>\n",
              "      <td>0.0</td>\n",
              "      <td>0.0</td>\n",
              "      <td>0.0</td>\n",
              "      <td>3.0</td>\n",
              "      <td>2.0</td>\n",
              "    </tr>\n",
              "    <tr>\n",
              "      <th>5046</th>\n",
              "      <td>7</td>\n",
              "      <td>0.0</td>\n",
              "      <td>0.0</td>\n",
              "      <td>0.0</td>\n",
              "      <td>0.0</td>\n",
              "      <td>0.0</td>\n",
              "      <td>0.0</td>\n",
              "      <td>0.0</td>\n",
              "      <td>0.0</td>\n",
              "      <td>0.0</td>\n",
              "      <td>...</td>\n",
              "      <td>0.0</td>\n",
              "      <td>0.0</td>\n",
              "      <td>1.0</td>\n",
              "      <td>0.0</td>\n",
              "      <td>0.0</td>\n",
              "      <td>1.0</td>\n",
              "      <td>0.0</td>\n",
              "      <td>0.0</td>\n",
              "      <td>0.0</td>\n",
              "      <td>0.0</td>\n",
              "    </tr>\n",
              "    <tr>\n",
              "      <th>5319</th>\n",
              "      <td>8</td>\n",
              "      <td>0.0</td>\n",
              "      <td>0.0</td>\n",
              "      <td>0.0</td>\n",
              "      <td>0.0</td>\n",
              "      <td>0.0</td>\n",
              "      <td>0.0</td>\n",
              "      <td>0.0</td>\n",
              "      <td>0.0</td>\n",
              "      <td>0.0</td>\n",
              "      <td>...</td>\n",
              "      <td>9.0</td>\n",
              "      <td>2.0</td>\n",
              "      <td>3.0</td>\n",
              "      <td>2.0</td>\n",
              "      <td>2.0</td>\n",
              "      <td>4.0</td>\n",
              "      <td>3.0</td>\n",
              "      <td>2.0</td>\n",
              "      <td>3.0</td>\n",
              "      <td>0.0</td>\n",
              "    </tr>\n",
              "    <tr>\n",
              "      <th>5003</th>\n",
              "      <td>9</td>\n",
              "      <td>0.0</td>\n",
              "      <td>0.0</td>\n",
              "      <td>0.0</td>\n",
              "      <td>0.0</td>\n",
              "      <td>0.0</td>\n",
              "      <td>0.0</td>\n",
              "      <td>0.0</td>\n",
              "      <td>0.0</td>\n",
              "      <td>0.0</td>\n",
              "      <td>...</td>\n",
              "      <td>0.0</td>\n",
              "      <td>0.0</td>\n",
              "      <td>0.0</td>\n",
              "      <td>0.0</td>\n",
              "      <td>0.0</td>\n",
              "      <td>0.0</td>\n",
              "      <td>0.0</td>\n",
              "      <td>0.0</td>\n",
              "      <td>0.0</td>\n",
              "      <td>0.0</td>\n",
              "    </tr>\n",
              "  </tbody>\n",
              "</table>\n",
              "<p>10 rows × 35 columns</p>\n",
              "</div>\n",
              "      <button class=\"colab-df-convert\" onclick=\"convertToInteractive('df-07844c56-a304-4cc7-a3b9-72a4bc00e701')\"\n",
              "              title=\"Convert this dataframe to an interactive table.\"\n",
              "              style=\"display:none;\">\n",
              "        \n",
              "  <svg xmlns=\"http://www.w3.org/2000/svg\" height=\"24px\"viewBox=\"0 0 24 24\"\n",
              "       width=\"24px\">\n",
              "    <path d=\"M0 0h24v24H0V0z\" fill=\"none\"/>\n",
              "    <path d=\"M18.56 5.44l.94 2.06.94-2.06 2.06-.94-2.06-.94-.94-2.06-.94 2.06-2.06.94zm-11 1L8.5 8.5l.94-2.06 2.06-.94-2.06-.94L8.5 2.5l-.94 2.06-2.06.94zm10 10l.94 2.06.94-2.06 2.06-.94-2.06-.94-.94-2.06-.94 2.06-2.06.94z\"/><path d=\"M17.41 7.96l-1.37-1.37c-.4-.4-.92-.59-1.43-.59-.52 0-1.04.2-1.43.59L10.3 9.45l-7.72 7.72c-.78.78-.78 2.05 0 2.83L4 21.41c.39.39.9.59 1.41.59.51 0 1.02-.2 1.41-.59l7.78-7.78 2.81-2.81c.8-.78.8-2.07 0-2.86zM5.41 20L4 18.59l7.72-7.72 1.47 1.35L5.41 20z\"/>\n",
              "  </svg>\n",
              "      </button>\n",
              "      \n",
              "  <style>\n",
              "    .colab-df-container {\n",
              "      display:flex;\n",
              "      flex-wrap:wrap;\n",
              "      gap: 12px;\n",
              "    }\n",
              "\n",
              "    .colab-df-convert {\n",
              "      background-color: #E8F0FE;\n",
              "      border: none;\n",
              "      border-radius: 50%;\n",
              "      cursor: pointer;\n",
              "      display: none;\n",
              "      fill: #1967D2;\n",
              "      height: 32px;\n",
              "      padding: 0 0 0 0;\n",
              "      width: 32px;\n",
              "    }\n",
              "\n",
              "    .colab-df-convert:hover {\n",
              "      background-color: #E2EBFA;\n",
              "      box-shadow: 0px 1px 2px rgba(60, 64, 67, 0.3), 0px 1px 3px 1px rgba(60, 64, 67, 0.15);\n",
              "      fill: #174EA6;\n",
              "    }\n",
              "\n",
              "    [theme=dark] .colab-df-convert {\n",
              "      background-color: #3B4455;\n",
              "      fill: #D2E3FC;\n",
              "    }\n",
              "\n",
              "    [theme=dark] .colab-df-convert:hover {\n",
              "      background-color: #434B5C;\n",
              "      box-shadow: 0px 1px 3px 1px rgba(0, 0, 0, 0.15);\n",
              "      filter: drop-shadow(0px 1px 2px rgba(0, 0, 0, 0.3));\n",
              "      fill: #FFFFFF;\n",
              "    }\n",
              "  </style>\n",
              "\n",
              "      <script>\n",
              "        const buttonEl =\n",
              "          document.querySelector('#df-07844c56-a304-4cc7-a3b9-72a4bc00e701 button.colab-df-convert');\n",
              "        buttonEl.style.display =\n",
              "          google.colab.kernel.accessAllowed ? 'block' : 'none';\n",
              "\n",
              "        async function convertToInteractive(key) {\n",
              "          const element = document.querySelector('#df-07844c56-a304-4cc7-a3b9-72a4bc00e701');\n",
              "          const dataTable =\n",
              "            await google.colab.kernel.invokeFunction('convertToInteractive',\n",
              "                                                     [key], {});\n",
              "          if (!dataTable) return;\n",
              "\n",
              "          const docLinkHtml = 'Like what you see? Visit the ' +\n",
              "            '<a target=\"_blank\" href=https://colab.research.google.com/notebooks/data_table.ipynb>data table notebook</a>'\n",
              "            + ' to learn more about interactive tables.';\n",
              "          element.innerHTML = '';\n",
              "          dataTable['output_type'] = 'display_data';\n",
              "          await google.colab.output.renderOutput(dataTable, element);\n",
              "          const docLink = document.createElement('div');\n",
              "          docLink.innerHTML = docLinkHtml;\n",
              "          element.appendChild(docLink);\n",
              "        }\n",
              "      </script>\n",
              "    </div>\n",
              "  </div>\n",
              "  "
            ]
          },
          "metadata": {},
          "execution_count": 67
        }
      ],
      "source": [
        "# # Combine the test_data to train_Data_Nov for prediction\n",
        "# test_Data = sales_test.copy()\n",
        "# test_Data = test_Data.pivot_table(index = ['shop_id','item_id'],fill_value = 0)\n",
        "# Combine_train_test = pd.merge(test_Data, dataset, how = 'left', on = ['shop_id','item_id']).fillna(0)\n",
        "# Combine_train_test = Combine_train_test.sort_values(by = 'ID')\n",
        "# Combine_train_test.head(10)"
      ]
    },
    {
      "cell_type": "code",
      "source": [
        "# Combine_train_test.index[0][1]"
      ],
      "metadata": {
        "colab": {
          "base_uri": "https://localhost:8080/"
        },
        "id": "5vKfqudQJoer",
        "outputId": "3f2c712c-08ca-4eeb-c0ec-476c86686626"
      },
      "id": "5vKfqudQJoer",
      "execution_count": 47,
      "outputs": [
        {
          "output_type": "execute_result",
          "data": {
            "text/plain": [
              "5037"
            ]
          },
          "metadata": {},
          "execution_count": 47
        }
      ]
    },
    {
      "cell_type": "code",
      "source": [
        "# Combine_train_test.columns"
      ],
      "metadata": {
        "colab": {
          "base_uri": "https://localhost:8080/"
        },
        "id": "JcrjpRAwPBCV",
        "outputId": "28a25687-2016-4a90-da97-f37f6b10b8e8"
      },
      "id": "JcrjpRAwPBCV",
      "execution_count": 69,
      "outputs": [
        {
          "output_type": "execute_result",
          "data": {
            "text/plain": [
              "Index([                'ID',  ('item_cnt_day', 0),  ('item_cnt_day', 1),\n",
              "        ('item_cnt_day', 2),  ('item_cnt_day', 3),  ('item_cnt_day', 4),\n",
              "        ('item_cnt_day', 5),  ('item_cnt_day', 6),  ('item_cnt_day', 7),\n",
              "        ('item_cnt_day', 8),  ('item_cnt_day', 9), ('item_cnt_day', 10),\n",
              "       ('item_cnt_day', 11), ('item_cnt_day', 12), ('item_cnt_day', 13),\n",
              "       ('item_cnt_day', 14), ('item_cnt_day', 15), ('item_cnt_day', 16),\n",
              "       ('item_cnt_day', 17), ('item_cnt_day', 18), ('item_cnt_day', 19),\n",
              "       ('item_cnt_day', 20), ('item_cnt_day', 21), ('item_cnt_day', 22),\n",
              "       ('item_cnt_day', 23), ('item_cnt_day', 24), ('item_cnt_day', 25),\n",
              "       ('item_cnt_day', 26), ('item_cnt_day', 27), ('item_cnt_day', 28),\n",
              "       ('item_cnt_day', 29), ('item_cnt_day', 30), ('item_cnt_day', 31),\n",
              "       ('item_cnt_day', 32), ('item_cnt_day', 33)],\n",
              "      dtype='object')"
            ]
          },
          "metadata": {},
          "execution_count": 69
        }
      ]
    },
    {
      "cell_type": "code",
      "source": [
        "# combine = Combine_train_test.drop('ID', axis=1)\n",
        "# combine.columns"
      ],
      "metadata": {
        "colab": {
          "base_uri": "https://localhost:8080/"
        },
        "id": "cBisBmFKPWYG",
        "outputId": "9951b567-e245-4103-c0b2-94fe0646e320"
      },
      "id": "cBisBmFKPWYG",
      "execution_count": 70,
      "outputs": [
        {
          "output_type": "execute_result",
          "data": {
            "text/plain": [
              "Index([ ('item_cnt_day', 0),  ('item_cnt_day', 1),  ('item_cnt_day', 2),\n",
              "        ('item_cnt_day', 3),  ('item_cnt_day', 4),  ('item_cnt_day', 5),\n",
              "        ('item_cnt_day', 6),  ('item_cnt_day', 7),  ('item_cnt_day', 8),\n",
              "        ('item_cnt_day', 9), ('item_cnt_day', 10), ('item_cnt_day', 11),\n",
              "       ('item_cnt_day', 12), ('item_cnt_day', 13), ('item_cnt_day', 14),\n",
              "       ('item_cnt_day', 15), ('item_cnt_day', 16), ('item_cnt_day', 17),\n",
              "       ('item_cnt_day', 18), ('item_cnt_day', 19), ('item_cnt_day', 20),\n",
              "       ('item_cnt_day', 21), ('item_cnt_day', 22), ('item_cnt_day', 23),\n",
              "       ('item_cnt_day', 24), ('item_cnt_day', 25), ('item_cnt_day', 26),\n",
              "       ('item_cnt_day', 27), ('item_cnt_day', 28), ('item_cnt_day', 29),\n",
              "       ('item_cnt_day', 30), ('item_cnt_day', 31), ('item_cnt_day', 32),\n",
              "       ('item_cnt_day', 33)],\n",
              "      dtype='object')"
            ]
          },
          "metadata": {},
          "execution_count": 70
        }
      ]
    },
    {
      "cell_type": "code",
      "source": [
        "new_dataset = dataset.reset_index()\n",
        "new_dataset.columns"
      ],
      "metadata": {
        "colab": {
          "base_uri": "https://localhost:8080/"
        },
        "id": "sXhkO9IMSTGw",
        "outputId": "c6a59eba-c7ee-4e7b-bbf5-8b92d58d8395"
      },
      "id": "sXhkO9IMSTGw",
      "execution_count": 11,
      "outputs": [
        {
          "output_type": "execute_result",
          "data": {
            "text/plain": [
              "MultiIndex([(     'shop_id', ''),\n",
              "            (     'item_id', ''),\n",
              "            (  'item_price', ''),\n",
              "            ('item_cnt_day',  0),\n",
              "            ('item_cnt_day',  1),\n",
              "            ('item_cnt_day',  2),\n",
              "            ('item_cnt_day',  3),\n",
              "            ('item_cnt_day',  4),\n",
              "            ('item_cnt_day',  5),\n",
              "            ('item_cnt_day',  6),\n",
              "            ('item_cnt_day',  7),\n",
              "            ('item_cnt_day',  8),\n",
              "            ('item_cnt_day',  9),\n",
              "            ('item_cnt_day', 10),\n",
              "            ('item_cnt_day', 11),\n",
              "            ('item_cnt_day', 12),\n",
              "            ('item_cnt_day', 13),\n",
              "            ('item_cnt_day', 14),\n",
              "            ('item_cnt_day', 15),\n",
              "            ('item_cnt_day', 16),\n",
              "            ('item_cnt_day', 17),\n",
              "            ('item_cnt_day', 18),\n",
              "            ('item_cnt_day', 19),\n",
              "            ('item_cnt_day', 20),\n",
              "            ('item_cnt_day', 21),\n",
              "            ('item_cnt_day', 22),\n",
              "            ('item_cnt_day', 23),\n",
              "            ('item_cnt_day', 24),\n",
              "            ('item_cnt_day', 25),\n",
              "            ('item_cnt_day', 26),\n",
              "            ('item_cnt_day', 27),\n",
              "            ('item_cnt_day', 28),\n",
              "            ('item_cnt_day', 29),\n",
              "            ('item_cnt_day', 30),\n",
              "            ('item_cnt_day', 31),\n",
              "            ('item_cnt_day', 32),\n",
              "            ('item_cnt_day', 33)],\n",
              "           names=[None, 'date_block_num'])"
            ]
          },
          "metadata": {},
          "execution_count": 11
        }
      ]
    },
    {
      "cell_type": "code",
      "source": [
        "new_dataset.head(3)"
      ],
      "metadata": {
        "colab": {
          "base_uri": "https://localhost:8080/",
          "height": 204
        },
        "id": "1aOf13QSW2f_",
        "outputId": "b26b8af7-7c38-44de-cf13-2beb5d2c76f0"
      },
      "id": "1aOf13QSW2f_",
      "execution_count": 12,
      "outputs": [
        {
          "output_type": "execute_result",
          "data": {
            "text/plain": [
              "               shop_id item_id item_price item_cnt_day                     \\\n",
              "date_block_num                                       0   1  2  3  4  5  6   \n",
              "0                    0      30      265.0            0  31  0  0  0  0  0   \n",
              "1                    0      31      434.0            0  11  0  0  0  0  0   \n",
              "2                    0      32      221.0            6  10  0  0  0  0  0   \n",
              "\n",
              "                ...                                \n",
              "date_block_num  ... 24 25 26 27 28 29 30 31 32 33  \n",
              "0               ...  0  0  0  0  0  0  0  0  0  0  \n",
              "1               ...  0  0  0  0  0  0  0  0  0  0  \n",
              "2               ...  0  0  0  0  0  0  0  0  0  0  \n",
              "\n",
              "[3 rows x 37 columns]"
            ],
            "text/html": [
              "\n",
              "  <div id=\"df-95bdaaa6-438a-4c60-a30a-91d6dc11b6a7\">\n",
              "    <div class=\"colab-df-container\">\n",
              "      <div>\n",
              "<style scoped>\n",
              "    .dataframe tbody tr th:only-of-type {\n",
              "        vertical-align: middle;\n",
              "    }\n",
              "\n",
              "    .dataframe tbody tr th {\n",
              "        vertical-align: top;\n",
              "    }\n",
              "\n",
              "    .dataframe thead tr th {\n",
              "        text-align: left;\n",
              "    }\n",
              "</style>\n",
              "<table border=\"1\" class=\"dataframe\">\n",
              "  <thead>\n",
              "    <tr>\n",
              "      <th></th>\n",
              "      <th>shop_id</th>\n",
              "      <th>item_id</th>\n",
              "      <th>item_price</th>\n",
              "      <th colspan=\"18\" halign=\"left\">item_cnt_day</th>\n",
              "    </tr>\n",
              "    <tr>\n",
              "      <th>date_block_num</th>\n",
              "      <th></th>\n",
              "      <th></th>\n",
              "      <th></th>\n",
              "      <th>0</th>\n",
              "      <th>1</th>\n",
              "      <th>2</th>\n",
              "      <th>3</th>\n",
              "      <th>4</th>\n",
              "      <th>5</th>\n",
              "      <th>6</th>\n",
              "      <th>...</th>\n",
              "      <th>24</th>\n",
              "      <th>25</th>\n",
              "      <th>26</th>\n",
              "      <th>27</th>\n",
              "      <th>28</th>\n",
              "      <th>29</th>\n",
              "      <th>30</th>\n",
              "      <th>31</th>\n",
              "      <th>32</th>\n",
              "      <th>33</th>\n",
              "    </tr>\n",
              "  </thead>\n",
              "  <tbody>\n",
              "    <tr>\n",
              "      <th>0</th>\n",
              "      <td>0</td>\n",
              "      <td>30</td>\n",
              "      <td>265.0</td>\n",
              "      <td>0</td>\n",
              "      <td>31</td>\n",
              "      <td>0</td>\n",
              "      <td>0</td>\n",
              "      <td>0</td>\n",
              "      <td>0</td>\n",
              "      <td>0</td>\n",
              "      <td>...</td>\n",
              "      <td>0</td>\n",
              "      <td>0</td>\n",
              "      <td>0</td>\n",
              "      <td>0</td>\n",
              "      <td>0</td>\n",
              "      <td>0</td>\n",
              "      <td>0</td>\n",
              "      <td>0</td>\n",
              "      <td>0</td>\n",
              "      <td>0</td>\n",
              "    </tr>\n",
              "    <tr>\n",
              "      <th>1</th>\n",
              "      <td>0</td>\n",
              "      <td>31</td>\n",
              "      <td>434.0</td>\n",
              "      <td>0</td>\n",
              "      <td>11</td>\n",
              "      <td>0</td>\n",
              "      <td>0</td>\n",
              "      <td>0</td>\n",
              "      <td>0</td>\n",
              "      <td>0</td>\n",
              "      <td>...</td>\n",
              "      <td>0</td>\n",
              "      <td>0</td>\n",
              "      <td>0</td>\n",
              "      <td>0</td>\n",
              "      <td>0</td>\n",
              "      <td>0</td>\n",
              "      <td>0</td>\n",
              "      <td>0</td>\n",
              "      <td>0</td>\n",
              "      <td>0</td>\n",
              "    </tr>\n",
              "    <tr>\n",
              "      <th>2</th>\n",
              "      <td>0</td>\n",
              "      <td>32</td>\n",
              "      <td>221.0</td>\n",
              "      <td>6</td>\n",
              "      <td>10</td>\n",
              "      <td>0</td>\n",
              "      <td>0</td>\n",
              "      <td>0</td>\n",
              "      <td>0</td>\n",
              "      <td>0</td>\n",
              "      <td>...</td>\n",
              "      <td>0</td>\n",
              "      <td>0</td>\n",
              "      <td>0</td>\n",
              "      <td>0</td>\n",
              "      <td>0</td>\n",
              "      <td>0</td>\n",
              "      <td>0</td>\n",
              "      <td>0</td>\n",
              "      <td>0</td>\n",
              "      <td>0</td>\n",
              "    </tr>\n",
              "  </tbody>\n",
              "</table>\n",
              "<p>3 rows × 37 columns</p>\n",
              "</div>\n",
              "      <button class=\"colab-df-convert\" onclick=\"convertToInteractive('df-95bdaaa6-438a-4c60-a30a-91d6dc11b6a7')\"\n",
              "              title=\"Convert this dataframe to an interactive table.\"\n",
              "              style=\"display:none;\">\n",
              "        \n",
              "  <svg xmlns=\"http://www.w3.org/2000/svg\" height=\"24px\"viewBox=\"0 0 24 24\"\n",
              "       width=\"24px\">\n",
              "    <path d=\"M0 0h24v24H0V0z\" fill=\"none\"/>\n",
              "    <path d=\"M18.56 5.44l.94 2.06.94-2.06 2.06-.94-2.06-.94-.94-2.06-.94 2.06-2.06.94zm-11 1L8.5 8.5l.94-2.06 2.06-.94-2.06-.94L8.5 2.5l-.94 2.06-2.06.94zm10 10l.94 2.06.94-2.06 2.06-.94-2.06-.94-.94-2.06-.94 2.06-2.06.94z\"/><path d=\"M17.41 7.96l-1.37-1.37c-.4-.4-.92-.59-1.43-.59-.52 0-1.04.2-1.43.59L10.3 9.45l-7.72 7.72c-.78.78-.78 2.05 0 2.83L4 21.41c.39.39.9.59 1.41.59.51 0 1.02-.2 1.41-.59l7.78-7.78 2.81-2.81c.8-.78.8-2.07 0-2.86zM5.41 20L4 18.59l7.72-7.72 1.47 1.35L5.41 20z\"/>\n",
              "  </svg>\n",
              "      </button>\n",
              "      \n",
              "  <style>\n",
              "    .colab-df-container {\n",
              "      display:flex;\n",
              "      flex-wrap:wrap;\n",
              "      gap: 12px;\n",
              "    }\n",
              "\n",
              "    .colab-df-convert {\n",
              "      background-color: #E8F0FE;\n",
              "      border: none;\n",
              "      border-radius: 50%;\n",
              "      cursor: pointer;\n",
              "      display: none;\n",
              "      fill: #1967D2;\n",
              "      height: 32px;\n",
              "      padding: 0 0 0 0;\n",
              "      width: 32px;\n",
              "    }\n",
              "\n",
              "    .colab-df-convert:hover {\n",
              "      background-color: #E2EBFA;\n",
              "      box-shadow: 0px 1px 2px rgba(60, 64, 67, 0.3), 0px 1px 3px 1px rgba(60, 64, 67, 0.15);\n",
              "      fill: #174EA6;\n",
              "    }\n",
              "\n",
              "    [theme=dark] .colab-df-convert {\n",
              "      background-color: #3B4455;\n",
              "      fill: #D2E3FC;\n",
              "    }\n",
              "\n",
              "    [theme=dark] .colab-df-convert:hover {\n",
              "      background-color: #434B5C;\n",
              "      box-shadow: 0px 1px 3px 1px rgba(0, 0, 0, 0.15);\n",
              "      filter: drop-shadow(0px 1px 2px rgba(0, 0, 0, 0.3));\n",
              "      fill: #FFFFFF;\n",
              "    }\n",
              "  </style>\n",
              "\n",
              "      <script>\n",
              "        const buttonEl =\n",
              "          document.querySelector('#df-95bdaaa6-438a-4c60-a30a-91d6dc11b6a7 button.colab-df-convert');\n",
              "        buttonEl.style.display =\n",
              "          google.colab.kernel.accessAllowed ? 'block' : 'none';\n",
              "\n",
              "        async function convertToInteractive(key) {\n",
              "          const element = document.querySelector('#df-95bdaaa6-438a-4c60-a30a-91d6dc11b6a7');\n",
              "          const dataTable =\n",
              "            await google.colab.kernel.invokeFunction('convertToInteractive',\n",
              "                                                     [key], {});\n",
              "          if (!dataTable) return;\n",
              "\n",
              "          const docLinkHtml = 'Like what you see? Visit the ' +\n",
              "            '<a target=\"_blank\" href=https://colab.research.google.com/notebooks/data_table.ipynb>data table notebook</a>'\n",
              "            + ' to learn more about interactive tables.';\n",
              "          element.innerHTML = '';\n",
              "          dataTable['output_type'] = 'display_data';\n",
              "          await google.colab.output.renderOutput(dataTable, element);\n",
              "          const docLink = document.createElement('div');\n",
              "          docLink.innerHTML = docLinkHtml;\n",
              "          element.appendChild(docLink);\n",
              "        }\n",
              "      </script>\n",
              "    </div>\n",
              "  </div>\n",
              "  "
            ]
          },
          "metadata": {},
          "execution_count": 12
        }
      ]
    },
    {
      "cell_type": "code",
      "source": [
        "new_dataset.values[0][1]"
      ],
      "metadata": {
        "colab": {
          "base_uri": "https://localhost:8080/"
        },
        "id": "m14Kkf8TW_dv",
        "outputId": "8af30574-4280-4bbe-aace-237f303e2524"
      },
      "id": "m14Kkf8TW_dv",
      "execution_count": 14,
      "outputs": [
        {
          "output_type": "execute_result",
          "data": {
            "text/plain": [
              "30.0"
            ]
          },
          "metadata": {},
          "execution_count": 14
        }
      ]
    },
    {
      "cell_type": "code",
      "source": [
        "item.columns"
      ],
      "metadata": {
        "colab": {
          "base_uri": "https://localhost:8080/"
        },
        "id": "Ux60INA4jXhZ",
        "outputId": "e1b59fc1-3e4d-44c7-e587-6b9fa23b43ad"
      },
      "id": "Ux60INA4jXhZ",
      "execution_count": 92,
      "outputs": [
        {
          "output_type": "execute_result",
          "data": {
            "text/plain": [
              "Index(['item_name', 'item_id', 'item_category_id'], dtype='object')"
            ]
          },
          "metadata": {},
          "execution_count": 92
        }
      ]
    },
    {
      "cell_type": "code",
      "source": [
        "# add item_cat to dataset\n"
      ],
      "metadata": {
        "id": "94VPrsoLDigj"
      },
      "id": "94VPrsoLDigj",
      "execution_count": null,
      "outputs": []
    },
    {
      "cell_type": "code",
      "source": [
        "item.loc[item['item_id'] == 30].values[0][2]"
      ],
      "metadata": {
        "colab": {
          "base_uri": "https://localhost:8080/"
        },
        "id": "yMXgMSO_iB2t",
        "outputId": "f6b5c130-3d45-46e7-b146-6733aa99f7a2"
      },
      "id": "yMXgMSO_iB2t",
      "execution_count": 21,
      "outputs": [
        {
          "output_type": "execute_result",
          "data": {
            "text/plain": [
              "40"
            ]
          },
          "metadata": {},
          "execution_count": 21
        }
      ]
    },
    {
      "cell_type": "code",
      "execution_count": 74,
      "id": "6bb41318",
      "metadata": {
        "execution": {
          "iopub.execute_input": "2022-05-25T16:12:36.512476Z",
          "iopub.status.busy": "2022-05-25T16:12:36.511752Z",
          "iopub.status.idle": "2022-05-25T16:12:36.517249Z",
          "shell.execute_reply": "2022-05-25T16:12:36.516520Z"
        },
        "papermill": {
          "duration": 0.046244,
          "end_time": "2022-05-25T16:12:36.519410",
          "exception": false,
          "start_time": "2022-05-25T16:12:36.473166",
          "status": "completed"
        },
        "tags": [],
        "colab": {
          "base_uri": "https://localhost:8080/"
        },
        "id": "6bb41318",
        "outputId": "b761221a-feca-4cf8-dba5-48d66720811d"
      },
      "outputs": [
        {
          "output_type": "execute_result",
          "data": {
            "text/plain": [
              "(2935847, 6)"
            ]
          },
          "metadata": {},
          "execution_count": 74
        }
      ],
      "source": [
        "sales_train.shape"
      ]
    },
    {
      "cell_type": "code",
      "execution_count": 75,
      "id": "9bbd7bcf",
      "metadata": {
        "execution": {
          "iopub.execute_input": "2022-05-25T16:12:36.590344Z",
          "iopub.status.busy": "2022-05-25T16:12:36.589698Z",
          "iopub.status.idle": "2022-05-25T16:12:36.594592Z",
          "shell.execute_reply": "2022-05-25T16:12:36.593938Z"
        },
        "papermill": {
          "duration": 0.042103,
          "end_time": "2022-05-25T16:12:36.596508",
          "exception": false,
          "start_time": "2022-05-25T16:12:36.554405",
          "status": "completed"
        },
        "tags": [],
        "colab": {
          "base_uri": "https://localhost:8080/"
        },
        "id": "9bbd7bcf",
        "outputId": "26fe2505-d56e-4b90-8ee2-1d3dabfa96c9"
      },
      "outputs": [
        {
          "output_type": "execute_result",
          "data": {
            "text/plain": [
              "(214200, 35)"
            ]
          },
          "metadata": {},
          "execution_count": 75
        }
      ],
      "source": [
        "# Combine_train_test.shape"
      ]
    },
    {
      "cell_type": "code",
      "source": [
        "# combine.shape"
      ],
      "metadata": {
        "colab": {
          "base_uri": "https://localhost:8080/"
        },
        "id": "eIFkhykDXIpl",
        "outputId": "b29f0181-0fa6-4dd5-989b-a01a61d95a83"
      },
      "id": "eIFkhykDXIpl",
      "execution_count": 76,
      "outputs": [
        {
          "output_type": "execute_result",
          "data": {
            "text/plain": [
              "(214200, 36)"
            ]
          },
          "metadata": {},
          "execution_count": 76
        }
      ]
    },
    {
      "cell_type": "code",
      "execution_count": 22,
      "id": "4b7792ea",
      "metadata": {
        "execution": {
          "iopub.execute_input": "2022-05-25T16:12:36.669576Z",
          "iopub.status.busy": "2022-05-25T16:12:36.669081Z",
          "iopub.status.idle": "2022-05-25T16:12:36.829319Z",
          "shell.execute_reply": "2022-05-25T16:12:36.828482Z"
        },
        "papermill": {
          "duration": 0.200098,
          "end_time": "2022-05-25T16:12:36.831417",
          "exception": false,
          "start_time": "2022-05-25T16:12:36.631319",
          "status": "completed"
        },
        "tags": [],
        "id": "4b7792ea"
      },
      "outputs": [],
      "source": [
        "# Drop the ID\n",
        "# Combine_train_test = Combine_train_test.drop(columns = ['ID'])\n",
        "\n",
        "# Train Data\n",
        "X_train = np.array(new_dataset.values[:,:-1]).reshape(np.array(new_dataset.values[:,:-1]).shape[0],np.array(new_dataset.values[:,:-1]).shape[1], 1)\n",
        "\n",
        "# The target \n",
        "y_train = new_dataset.values[:,-1:]\n",
        "\n",
        "X_test = np.array(new_dataset.values[:,1:]).reshape(np.array(new_dataset.values[:,1:]).shape[0],np.array(new_dataset.values[:,1:]).shape[1], 1)"
      ]
    },
    {
      "cell_type": "code",
      "source": [
        "X_train[0].shape"
      ],
      "metadata": {
        "colab": {
          "base_uri": "https://localhost:8080/"
        },
        "id": "QQrM5h6zZGXn",
        "outputId": "6a2dbd9e-f38c-4a88-835e-27d1ede935d7"
      },
      "id": "QQrM5h6zZGXn",
      "execution_count": 23,
      "outputs": [
        {
          "output_type": "execute_result",
          "data": {
            "text/plain": [
              "(36, 1)"
            ]
          },
          "metadata": {},
          "execution_count": 23
        }
      ]
    },
    {
      "cell_type": "code",
      "source": [
        "y_train[0].shape"
      ],
      "metadata": {
        "colab": {
          "base_uri": "https://localhost:8080/"
        },
        "id": "kv6qO6mnZIu0",
        "outputId": "a9786fa4-7e33-4ea0-a51f-367971bc5c9f"
      },
      "id": "kv6qO6mnZIu0",
      "execution_count": 24,
      "outputs": [
        {
          "output_type": "execute_result",
          "data": {
            "text/plain": [
              "(1,)"
            ]
          },
          "metadata": {},
          "execution_count": 24
        }
      ]
    },
    {
      "cell_type": "markdown",
      "id": "e9d7e03f",
      "metadata": {
        "papermill": {
          "duration": 0.035521,
          "end_time": "2022-05-25T16:12:36.904756",
          "exception": false,
          "start_time": "2022-05-25T16:12:36.869235",
          "status": "completed"
        },
        "tags": [],
        "id": "e9d7e03f"
      },
      "source": [
        "**Data Preparation**"
      ]
    },
    {
      "cell_type": "code",
      "execution_count": 25,
      "id": "319f0607",
      "metadata": {
        "execution": {
          "iopub.execute_input": "2022-05-25T16:12:36.986179Z",
          "iopub.status.busy": "2022-05-25T16:12:36.985590Z",
          "iopub.status.idle": "2022-05-25T16:12:36.989524Z",
          "shell.execute_reply": "2022-05-25T16:12:36.988874Z"
        },
        "papermill": {
          "duration": 0.050672,
          "end_time": "2022-05-25T16:12:36.991153",
          "exception": false,
          "start_time": "2022-05-25T16:12:36.940481",
          "status": "completed"
        },
        "tags": [],
        "id": "319f0607"
      },
      "outputs": [],
      "source": [
        "# dataset.reset_index(inplace = True)\n",
        "# dataset = pd.merge(sales_test,dataset,on = ['item_id','shop_id'],how = 'left')\n",
        "# dataset\n",
        "# dataset.fillna(0,inplace = True)\n",
        "# dataset.drop(['shop_id','item_id','ID'],inplace = True, axis = 1)\n",
        "# dataset.shape\n",
        "\n",
        "# X we will keep all columns execpt the last one \n",
        "# X_train = np.expand_dims(dataset.values[:,:-1],axis = 2)\n",
        "# the last column is our label\n",
        "# y_train = dataset.values[:,-1:]\n",
        "\n",
        "# for test we keep all the columns execpt the first one\n",
        "# X_test = np.expand_dims(dataset.values[:,1:],axis = 2)\n",
        "\n",
        "# lets have a look on the shape \n",
        "# print(X_train.shape,y_train.shape,X_test.shape)"
      ]
    },
    {
      "cell_type": "markdown",
      "id": "81eb49f2",
      "metadata": {
        "papermill": {
          "duration": 0.036139,
          "end_time": "2022-05-25T16:12:37.062504",
          "exception": false,
          "start_time": "2022-05-25T16:12:37.026365",
          "status": "completed"
        },
        "tags": [],
        "id": "81eb49f2"
      },
      "source": [
        "**Model Training and Prediction**"
      ]
    },
    {
      "cell_type": "code",
      "execution_count": 26,
      "id": "97c1bc06",
      "metadata": {
        "execution": {
          "iopub.execute_input": "2022-05-25T16:12:37.135562Z",
          "iopub.status.busy": "2022-05-25T16:12:37.134781Z",
          "iopub.status.idle": "2022-05-25T16:12:38.074571Z",
          "shell.execute_reply": "2022-05-25T16:12:38.073796Z"
        },
        "papermill": {
          "duration": 0.978478,
          "end_time": "2022-05-25T16:12:38.076939",
          "exception": false,
          "start_time": "2022-05-25T16:12:37.098461",
          "status": "completed"
        },
        "tags": [],
        "id": "97c1bc06"
      },
      "outputs": [],
      "source": [
        "Model_Check_point = tf.keras.callbacks.ModelCheckpoint(\"Model.h5\", \n",
        "                             monitor = 'val_loss',\n",
        "                             verbose = 1, \n",
        "                             save_best_only = True)\n",
        "\n",
        "early_stopping_callback = tf.keras.callbacks.EarlyStopping(monitor='val_loss',\n",
        "                            min_delta=0,\n",
        "                            patience=5,\n",
        "                            verbose=0, \n",
        "                            mode='auto')\n",
        "\n",
        "lr_reducer = tf.keras.callbacks.ReduceLROnPlateau(monitor='val_loss', \n",
        "                            factor=0.5,\n",
        "                            patience=5)\n",
        "\n",
        "call_backs = [early_stopping_callback, lr_reducer, Model_Check_point]"
      ]
    },
    {
      "cell_type": "code",
      "execution_count": 28,
      "id": "204645ac",
      "metadata": {
        "execution": {
          "iopub.execute_input": "2022-05-25T16:12:38.152765Z",
          "iopub.status.busy": "2022-05-25T16:12:38.151979Z",
          "iopub.status.idle": "2022-05-25T16:12:42.481881Z",
          "shell.execute_reply": "2022-05-25T16:12:42.480476Z"
        },
        "papermill": {
          "duration": 4.369662,
          "end_time": "2022-05-25T16:12:42.483860",
          "exception": false,
          "start_time": "2022-05-25T16:12:38.114198",
          "status": "completed"
        },
        "tags": [],
        "colab": {
          "base_uri": "https://localhost:8080/"
        },
        "id": "204645ac",
        "outputId": "4a3fda74-8f8c-4458-8aa0-a27d00d9ec43"
      },
      "outputs": [
        {
          "output_type": "stream",
          "name": "stdout",
          "text": [
            "Model: \"sequential_1\"\n",
            "_________________________________________________________________\n",
            " Layer (type)                Output Shape              Param #   \n",
            "=================================================================\n",
            " bidirectional_1 (Bidirectio  (None, 36, 100)          20800     \n",
            " nal)                                                            \n",
            "                                                                 \n",
            " dropout_1 (Dropout)         (None, 36, 100)           0         \n",
            "                                                                 \n",
            " flatten_1 (Flatten)         (None, 3600)              0         \n",
            "                                                                 \n",
            " dense_2 (Dense)             (None, 32)                115232    \n",
            "                                                                 \n",
            " dense_3 (Dense)             (None, 1)                 33        \n",
            "                                                                 \n",
            "=================================================================\n",
            "Total params: 136,065\n",
            "Trainable params: 136,065\n",
            "Non-trainable params: 0\n",
            "_________________________________________________________________\n"
          ]
        }
      ],
      "source": [
        "def build_model():  \n",
        "    \n",
        "    model = tf.keras.models.Sequential()\n",
        "    model.add(tf.keras.layers.Bidirectional(tf.keras.layers.LSTM(50, return_sequences=True), input_shape=(36, 1)))\n",
        "    # model.add(tf.keras.layers.Bidirectional(tf.keras.layers.LSTM(64, return_sequences=True)))\n",
        "    model.add(tf.keras.layers.Dropout(0.2))\n",
        "    model.add(tf.keras.layers.Flatten())   \n",
        "    model.add(tf.keras.layers.Dense(32, activation='relu', kernel_initializer='uniform'))\n",
        "    model.add(tf.keras.layers.Dense(1, activation=\"relu\"))    \n",
        "    \n",
        "    model.compile(optimizer = tf.keras.optimizers.Adam(learning_rate = 0.002), loss = 'mse', metrics=['mse'])\n",
        "    \n",
        "    model.summary()  \n",
        "    \n",
        "    return model\n",
        "\n",
        "model = build_model()"
      ]
    },
    {
      "cell_type": "code",
      "execution_count": 29,
      "id": "95830647",
      "metadata": {
        "execution": {
          "iopub.execute_input": "2022-05-25T16:12:42.564519Z",
          "iopub.status.busy": "2022-05-25T16:12:42.563774Z",
          "iopub.status.idle": "2022-05-25T16:25:32.882325Z",
          "shell.execute_reply": "2022-05-25T16:25:32.881125Z"
        },
        "papermill": {
          "duration": 770.361173,
          "end_time": "2022-05-25T16:25:32.884796",
          "exception": false,
          "start_time": "2022-05-25T16:12:42.523623",
          "status": "completed"
        },
        "tags": [],
        "colab": {
          "base_uri": "https://localhost:8080/",
          "height": 347
        },
        "id": "95830647",
        "outputId": "d8aa52dd-127c-4e4d-c516-ef09877fe4be"
      },
      "outputs": [
        {
          "output_type": "stream",
          "name": "stdout",
          "text": [
            "Epoch 1/100\n",
            " 415/1153 [=========>....................] - ETA: 2:08 - loss: 4.0526 - mse: 4.0526"
          ]
        },
        {
          "output_type": "error",
          "ename": "KeyboardInterrupt",
          "evalue": "ignored",
          "traceback": [
            "\u001b[0;31m---------------------------------------------------------------------------\u001b[0m",
            "\u001b[0;31mKeyboardInterrupt\u001b[0m                         Traceback (most recent call last)",
            "\u001b[0;32m<ipython-input-29-b222ad7112e8>\u001b[0m in \u001b[0;36m<module>\u001b[0;34m()\u001b[0m\n\u001b[0;32m----> 1\u001b[0;31m \u001b[0mhistory\u001b[0m \u001b[0;34m=\u001b[0m \u001b[0mmodel\u001b[0m\u001b[0;34m.\u001b[0m\u001b[0mfit\u001b[0m\u001b[0;34m(\u001b[0m\u001b[0mX_train\u001b[0m\u001b[0;34m,\u001b[0m \u001b[0my_train\u001b[0m\u001b[0;34m,\u001b[0m \u001b[0mvalidation_split\u001b[0m \u001b[0;34m=\u001b[0m \u001b[0;36m0.2\u001b[0m\u001b[0;34m,\u001b[0m \u001b[0mepochs\u001b[0m \u001b[0;34m=\u001b[0m \u001b[0;36m100\u001b[0m\u001b[0;34m,\u001b[0m \u001b[0mbatch_size\u001b[0m \u001b[0;34m=\u001b[0m \u001b[0;36m512\u001b[0m\u001b[0;34m,\u001b[0m \u001b[0mverbose\u001b[0m \u001b[0;34m=\u001b[0m \u001b[0;36m1\u001b[0m\u001b[0;34m,\u001b[0m \u001b[0mcallbacks\u001b[0m \u001b[0;34m=\u001b[0m \u001b[0mcall_backs\u001b[0m\u001b[0;34m)\u001b[0m\u001b[0;34m\u001b[0m\u001b[0;34m\u001b[0m\u001b[0m\n\u001b[0m",
            "\u001b[0;32m/usr/local/lib/python3.7/dist-packages/keras/utils/traceback_utils.py\u001b[0m in \u001b[0;36merror_handler\u001b[0;34m(*args, **kwargs)\u001b[0m\n\u001b[1;32m     62\u001b[0m     \u001b[0mfiltered_tb\u001b[0m \u001b[0;34m=\u001b[0m \u001b[0;32mNone\u001b[0m\u001b[0;34m\u001b[0m\u001b[0;34m\u001b[0m\u001b[0m\n\u001b[1;32m     63\u001b[0m     \u001b[0;32mtry\u001b[0m\u001b[0;34m:\u001b[0m\u001b[0;34m\u001b[0m\u001b[0;34m\u001b[0m\u001b[0m\n\u001b[0;32m---> 64\u001b[0;31m       \u001b[0;32mreturn\u001b[0m \u001b[0mfn\u001b[0m\u001b[0;34m(\u001b[0m\u001b[0;34m*\u001b[0m\u001b[0margs\u001b[0m\u001b[0;34m,\u001b[0m \u001b[0;34m**\u001b[0m\u001b[0mkwargs\u001b[0m\u001b[0;34m)\u001b[0m\u001b[0;34m\u001b[0m\u001b[0;34m\u001b[0m\u001b[0m\n\u001b[0m\u001b[1;32m     65\u001b[0m     \u001b[0;32mexcept\u001b[0m \u001b[0mException\u001b[0m \u001b[0;32mas\u001b[0m \u001b[0me\u001b[0m\u001b[0;34m:\u001b[0m  \u001b[0;31m# pylint: disable=broad-except\u001b[0m\u001b[0;34m\u001b[0m\u001b[0;34m\u001b[0m\u001b[0m\n\u001b[1;32m     66\u001b[0m       \u001b[0mfiltered_tb\u001b[0m \u001b[0;34m=\u001b[0m \u001b[0m_process_traceback_frames\u001b[0m\u001b[0;34m(\u001b[0m\u001b[0me\u001b[0m\u001b[0;34m.\u001b[0m\u001b[0m__traceback__\u001b[0m\u001b[0;34m)\u001b[0m\u001b[0;34m\u001b[0m\u001b[0;34m\u001b[0m\u001b[0m\n",
            "\u001b[0;32m/usr/local/lib/python3.7/dist-packages/keras/engine/training.py\u001b[0m in \u001b[0;36mfit\u001b[0;34m(self, x, y, batch_size, epochs, verbose, callbacks, validation_split, validation_data, shuffle, class_weight, sample_weight, initial_epoch, steps_per_epoch, validation_steps, validation_batch_size, validation_freq, max_queue_size, workers, use_multiprocessing)\u001b[0m\n\u001b[1;32m   1382\u001b[0m                 _r=1):\n\u001b[1;32m   1383\u001b[0m               \u001b[0mcallbacks\u001b[0m\u001b[0;34m.\u001b[0m\u001b[0mon_train_batch_begin\u001b[0m\u001b[0;34m(\u001b[0m\u001b[0mstep\u001b[0m\u001b[0;34m)\u001b[0m\u001b[0;34m\u001b[0m\u001b[0;34m\u001b[0m\u001b[0m\n\u001b[0;32m-> 1384\u001b[0;31m               \u001b[0mtmp_logs\u001b[0m \u001b[0;34m=\u001b[0m \u001b[0mself\u001b[0m\u001b[0;34m.\u001b[0m\u001b[0mtrain_function\u001b[0m\u001b[0;34m(\u001b[0m\u001b[0miterator\u001b[0m\u001b[0;34m)\u001b[0m\u001b[0;34m\u001b[0m\u001b[0;34m\u001b[0m\u001b[0m\n\u001b[0m\u001b[1;32m   1385\u001b[0m               \u001b[0;32mif\u001b[0m \u001b[0mdata_handler\u001b[0m\u001b[0;34m.\u001b[0m\u001b[0mshould_sync\u001b[0m\u001b[0;34m:\u001b[0m\u001b[0;34m\u001b[0m\u001b[0;34m\u001b[0m\u001b[0m\n\u001b[1;32m   1386\u001b[0m                 \u001b[0mcontext\u001b[0m\u001b[0;34m.\u001b[0m\u001b[0masync_wait\u001b[0m\u001b[0;34m(\u001b[0m\u001b[0;34m)\u001b[0m\u001b[0;34m\u001b[0m\u001b[0;34m\u001b[0m\u001b[0m\n",
            "\u001b[0;32m/usr/local/lib/python3.7/dist-packages/tensorflow/python/util/traceback_utils.py\u001b[0m in \u001b[0;36merror_handler\u001b[0;34m(*args, **kwargs)\u001b[0m\n\u001b[1;32m    148\u001b[0m     \u001b[0mfiltered_tb\u001b[0m \u001b[0;34m=\u001b[0m \u001b[0;32mNone\u001b[0m\u001b[0;34m\u001b[0m\u001b[0;34m\u001b[0m\u001b[0m\n\u001b[1;32m    149\u001b[0m     \u001b[0;32mtry\u001b[0m\u001b[0;34m:\u001b[0m\u001b[0;34m\u001b[0m\u001b[0;34m\u001b[0m\u001b[0m\n\u001b[0;32m--> 150\u001b[0;31m       \u001b[0;32mreturn\u001b[0m \u001b[0mfn\u001b[0m\u001b[0;34m(\u001b[0m\u001b[0;34m*\u001b[0m\u001b[0margs\u001b[0m\u001b[0;34m,\u001b[0m \u001b[0;34m**\u001b[0m\u001b[0mkwargs\u001b[0m\u001b[0;34m)\u001b[0m\u001b[0;34m\u001b[0m\u001b[0;34m\u001b[0m\u001b[0m\n\u001b[0m\u001b[1;32m    151\u001b[0m     \u001b[0;32mexcept\u001b[0m \u001b[0mException\u001b[0m \u001b[0;32mas\u001b[0m \u001b[0me\u001b[0m\u001b[0;34m:\u001b[0m\u001b[0;34m\u001b[0m\u001b[0;34m\u001b[0m\u001b[0m\n\u001b[1;32m    152\u001b[0m       \u001b[0mfiltered_tb\u001b[0m \u001b[0;34m=\u001b[0m \u001b[0m_process_traceback_frames\u001b[0m\u001b[0;34m(\u001b[0m\u001b[0me\u001b[0m\u001b[0;34m.\u001b[0m\u001b[0m__traceback__\u001b[0m\u001b[0;34m)\u001b[0m\u001b[0;34m\u001b[0m\u001b[0;34m\u001b[0m\u001b[0m\n",
            "\u001b[0;32m/usr/local/lib/python3.7/dist-packages/tensorflow/python/eager/def_function.py\u001b[0m in \u001b[0;36m__call__\u001b[0;34m(self, *args, **kwds)\u001b[0m\n\u001b[1;32m    913\u001b[0m \u001b[0;34m\u001b[0m\u001b[0m\n\u001b[1;32m    914\u001b[0m       \u001b[0;32mwith\u001b[0m \u001b[0mOptionalXlaContext\u001b[0m\u001b[0;34m(\u001b[0m\u001b[0mself\u001b[0m\u001b[0;34m.\u001b[0m\u001b[0m_jit_compile\u001b[0m\u001b[0;34m)\u001b[0m\u001b[0;34m:\u001b[0m\u001b[0;34m\u001b[0m\u001b[0;34m\u001b[0m\u001b[0m\n\u001b[0;32m--> 915\u001b[0;31m         \u001b[0mresult\u001b[0m \u001b[0;34m=\u001b[0m \u001b[0mself\u001b[0m\u001b[0;34m.\u001b[0m\u001b[0m_call\u001b[0m\u001b[0;34m(\u001b[0m\u001b[0;34m*\u001b[0m\u001b[0margs\u001b[0m\u001b[0;34m,\u001b[0m \u001b[0;34m**\u001b[0m\u001b[0mkwds\u001b[0m\u001b[0;34m)\u001b[0m\u001b[0;34m\u001b[0m\u001b[0;34m\u001b[0m\u001b[0m\n\u001b[0m\u001b[1;32m    916\u001b[0m \u001b[0;34m\u001b[0m\u001b[0m\n\u001b[1;32m    917\u001b[0m       \u001b[0mnew_tracing_count\u001b[0m \u001b[0;34m=\u001b[0m \u001b[0mself\u001b[0m\u001b[0;34m.\u001b[0m\u001b[0mexperimental_get_tracing_count\u001b[0m\u001b[0;34m(\u001b[0m\u001b[0;34m)\u001b[0m\u001b[0;34m\u001b[0m\u001b[0;34m\u001b[0m\u001b[0m\n",
            "\u001b[0;32m/usr/local/lib/python3.7/dist-packages/tensorflow/python/eager/def_function.py\u001b[0m in \u001b[0;36m_call\u001b[0;34m(self, *args, **kwds)\u001b[0m\n\u001b[1;32m    945\u001b[0m       \u001b[0;31m# In this case we have created variables on the first call, so we run the\u001b[0m\u001b[0;34m\u001b[0m\u001b[0;34m\u001b[0m\u001b[0;34m\u001b[0m\u001b[0m\n\u001b[1;32m    946\u001b[0m       \u001b[0;31m# defunned version which is guaranteed to never create variables.\u001b[0m\u001b[0;34m\u001b[0m\u001b[0;34m\u001b[0m\u001b[0;34m\u001b[0m\u001b[0m\n\u001b[0;32m--> 947\u001b[0;31m       \u001b[0;32mreturn\u001b[0m \u001b[0mself\u001b[0m\u001b[0;34m.\u001b[0m\u001b[0m_stateless_fn\u001b[0m\u001b[0;34m(\u001b[0m\u001b[0;34m*\u001b[0m\u001b[0margs\u001b[0m\u001b[0;34m,\u001b[0m \u001b[0;34m**\u001b[0m\u001b[0mkwds\u001b[0m\u001b[0;34m)\u001b[0m  \u001b[0;31m# pylint: disable=not-callable\u001b[0m\u001b[0;34m\u001b[0m\u001b[0;34m\u001b[0m\u001b[0m\n\u001b[0m\u001b[1;32m    948\u001b[0m     \u001b[0;32melif\u001b[0m \u001b[0mself\u001b[0m\u001b[0;34m.\u001b[0m\u001b[0m_stateful_fn\u001b[0m \u001b[0;32mis\u001b[0m \u001b[0;32mnot\u001b[0m \u001b[0;32mNone\u001b[0m\u001b[0;34m:\u001b[0m\u001b[0;34m\u001b[0m\u001b[0;34m\u001b[0m\u001b[0m\n\u001b[1;32m    949\u001b[0m       \u001b[0;31m# Release the lock early so that multiple threads can perform the call\u001b[0m\u001b[0;34m\u001b[0m\u001b[0;34m\u001b[0m\u001b[0;34m\u001b[0m\u001b[0m\n",
            "\u001b[0;32m/usr/local/lib/python3.7/dist-packages/tensorflow/python/eager/function.py\u001b[0m in \u001b[0;36m__call__\u001b[0;34m(self, *args, **kwargs)\u001b[0m\n\u001b[1;32m   2955\u001b[0m        filtered_flat_args) = self._maybe_define_function(args, kwargs)\n\u001b[1;32m   2956\u001b[0m     return graph_function._call_flat(\n\u001b[0;32m-> 2957\u001b[0;31m         filtered_flat_args, captured_inputs=graph_function.captured_inputs)  # pylint: disable=protected-access\n\u001b[0m\u001b[1;32m   2958\u001b[0m \u001b[0;34m\u001b[0m\u001b[0m\n\u001b[1;32m   2959\u001b[0m   \u001b[0;34m@\u001b[0m\u001b[0mproperty\u001b[0m\u001b[0;34m\u001b[0m\u001b[0;34m\u001b[0m\u001b[0m\n",
            "\u001b[0;32m/usr/local/lib/python3.7/dist-packages/tensorflow/python/eager/function.py\u001b[0m in \u001b[0;36m_call_flat\u001b[0;34m(self, args, captured_inputs, cancellation_manager)\u001b[0m\n\u001b[1;32m   1852\u001b[0m       \u001b[0;31m# No tape is watching; skip to running the function.\u001b[0m\u001b[0;34m\u001b[0m\u001b[0;34m\u001b[0m\u001b[0;34m\u001b[0m\u001b[0m\n\u001b[1;32m   1853\u001b[0m       return self._build_call_outputs(self._inference_function.call(\n\u001b[0;32m-> 1854\u001b[0;31m           ctx, args, cancellation_manager=cancellation_manager))\n\u001b[0m\u001b[1;32m   1855\u001b[0m     forward_backward = self._select_forward_and_backward_functions(\n\u001b[1;32m   1856\u001b[0m         \u001b[0margs\u001b[0m\u001b[0;34m,\u001b[0m\u001b[0;34m\u001b[0m\u001b[0;34m\u001b[0m\u001b[0m\n",
            "\u001b[0;32m/usr/local/lib/python3.7/dist-packages/tensorflow/python/eager/function.py\u001b[0m in \u001b[0;36mcall\u001b[0;34m(self, ctx, args, cancellation_manager)\u001b[0m\n\u001b[1;32m    502\u001b[0m               \u001b[0minputs\u001b[0m\u001b[0;34m=\u001b[0m\u001b[0margs\u001b[0m\u001b[0;34m,\u001b[0m\u001b[0;34m\u001b[0m\u001b[0;34m\u001b[0m\u001b[0m\n\u001b[1;32m    503\u001b[0m               \u001b[0mattrs\u001b[0m\u001b[0;34m=\u001b[0m\u001b[0mattrs\u001b[0m\u001b[0;34m,\u001b[0m\u001b[0;34m\u001b[0m\u001b[0;34m\u001b[0m\u001b[0m\n\u001b[0;32m--> 504\u001b[0;31m               ctx=ctx)\n\u001b[0m\u001b[1;32m    505\u001b[0m         \u001b[0;32melse\u001b[0m\u001b[0;34m:\u001b[0m\u001b[0;34m\u001b[0m\u001b[0;34m\u001b[0m\u001b[0m\n\u001b[1;32m    506\u001b[0m           outputs = execute.execute_with_cancellation(\n",
            "\u001b[0;32m/usr/local/lib/python3.7/dist-packages/tensorflow/python/eager/execute.py\u001b[0m in \u001b[0;36mquick_execute\u001b[0;34m(op_name, num_outputs, inputs, attrs, ctx, name)\u001b[0m\n\u001b[1;32m     53\u001b[0m     \u001b[0mctx\u001b[0m\u001b[0;34m.\u001b[0m\u001b[0mensure_initialized\u001b[0m\u001b[0;34m(\u001b[0m\u001b[0;34m)\u001b[0m\u001b[0;34m\u001b[0m\u001b[0;34m\u001b[0m\u001b[0m\n\u001b[1;32m     54\u001b[0m     tensors = pywrap_tfe.TFE_Py_Execute(ctx._handle, device_name, op_name,\n\u001b[0;32m---> 55\u001b[0;31m                                         inputs, attrs, num_outputs)\n\u001b[0m\u001b[1;32m     56\u001b[0m   \u001b[0;32mexcept\u001b[0m \u001b[0mcore\u001b[0m\u001b[0;34m.\u001b[0m\u001b[0m_NotOkStatusException\u001b[0m \u001b[0;32mas\u001b[0m \u001b[0me\u001b[0m\u001b[0;34m:\u001b[0m\u001b[0;34m\u001b[0m\u001b[0;34m\u001b[0m\u001b[0m\n\u001b[1;32m     57\u001b[0m     \u001b[0;32mif\u001b[0m \u001b[0mname\u001b[0m \u001b[0;32mis\u001b[0m \u001b[0;32mnot\u001b[0m \u001b[0;32mNone\u001b[0m\u001b[0;34m:\u001b[0m\u001b[0;34m\u001b[0m\u001b[0;34m\u001b[0m\u001b[0m\n",
            "\u001b[0;31mKeyboardInterrupt\u001b[0m: "
          ]
        }
      ],
      "source": [
        "history = model.fit(X_train, y_train, validation_split = 0.2, epochs = 100, batch_size = 512, verbose = 1, callbacks = call_backs)"
      ]
    },
    {
      "cell_type": "code",
      "source": [
        "history_1 = model.fit(X_train, y_train, validation_split = 0.2, epochs = 100, batch_size = 512, verbose = 1, callbacks = call_backs)"
      ],
      "metadata": {
        "colab": {
          "base_uri": "https://localhost:8080/"
        },
        "id": "dMJs46TVBa0H",
        "outputId": "f9ae7e82-e1e9-4b51-a1e5-929adf8f409c"
      },
      "id": "dMJs46TVBa0H",
      "execution_count": 84,
      "outputs": [
        {
          "output_type": "stream",
          "name": "stdout",
          "text": [
            "Epoch 1/100\n",
            "333/335 [============================>.] - ETA: 0s - loss: 6.5133 - mse: 6.5133\n",
            "Epoch 1: val_loss improved from inf to 0.76408, saving model to Model.h5\n",
            "335/335 [==============================] - 10s 19ms/step - loss: 6.4836 - mse: 6.4836 - val_loss: 0.7641 - val_mse: 0.7641 - lr: 0.0020\n",
            "Epoch 2/100\n",
            "334/335 [============================>.] - ETA: 0s - loss: 5.0803 - mse: 5.0803\n",
            "Epoch 2: val_loss improved from 0.76408 to 0.75183, saving model to Model.h5\n",
            "335/335 [==============================] - 6s 17ms/step - loss: 5.0711 - mse: 5.0711 - val_loss: 0.7518 - val_mse: 0.7518 - lr: 0.0020\n",
            "Epoch 3/100\n",
            "334/335 [============================>.] - ETA: 0s - loss: 5.6090 - mse: 5.6090\n",
            "Epoch 3: val_loss did not improve from 0.75183\n",
            "335/335 [==============================] - 6s 17ms/step - loss: 5.5986 - mse: 5.5986 - val_loss: 0.9472 - val_mse: 0.9472 - lr: 0.0020\n",
            "Epoch 4/100\n",
            "334/335 [============================>.] - ETA: 0s - loss: 4.4166 - mse: 4.4166\n",
            "Epoch 4: val_loss did not improve from 0.75183\n",
            "335/335 [==============================] - 6s 17ms/step - loss: 4.4109 - mse: 4.4109 - val_loss: 0.9482 - val_mse: 0.9482 - lr: 0.0020\n",
            "Epoch 5/100\n",
            "333/335 [============================>.] - ETA: 0s - loss: 4.6313 - mse: 4.6313\n",
            "Epoch 5: val_loss did not improve from 0.75183\n",
            "335/335 [==============================] - 6s 17ms/step - loss: 4.6116 - mse: 4.6116 - val_loss: 0.9318 - val_mse: 0.9318 - lr: 0.0020\n",
            "Epoch 6/100\n",
            "333/335 [============================>.] - ETA: 0s - loss: 4.2921 - mse: 4.2921\n",
            "Epoch 6: val_loss did not improve from 0.75183\n",
            "335/335 [==============================] - 6s 17ms/step - loss: 4.2739 - mse: 4.2739 - val_loss: 0.8297 - val_mse: 0.8297 - lr: 0.0020\n",
            "Epoch 7/100\n",
            "334/335 [============================>.] - ETA: 0s - loss: 3.7260 - mse: 3.7260\n",
            "Epoch 7: val_loss improved from 0.75183 to 0.74470, saving model to Model.h5\n",
            "335/335 [==============================] - 6s 17ms/step - loss: 3.7393 - mse: 3.7393 - val_loss: 0.7447 - val_mse: 0.7447 - lr: 0.0020\n",
            "Epoch 8/100\n",
            "334/335 [============================>.] - ETA: 0s - loss: 3.5031 - mse: 3.5031\n",
            "Epoch 8: val_loss did not improve from 0.74470\n",
            "335/335 [==============================] - 6s 18ms/step - loss: 3.4968 - mse: 3.4968 - val_loss: 0.8756 - val_mse: 0.8756 - lr: 0.0020\n",
            "Epoch 9/100\n",
            "334/335 [============================>.] - ETA: 0s - loss: 3.5497 - mse: 3.5497\n",
            "Epoch 9: val_loss did not improve from 0.74470\n",
            "335/335 [==============================] - 6s 17ms/step - loss: 3.5445 - mse: 3.5445 - val_loss: 0.7577 - val_mse: 0.7577 - lr: 0.0020\n",
            "Epoch 10/100\n",
            "332/335 [============================>.] - ETA: 0s - loss: 3.4408 - mse: 3.4408\n",
            "Epoch 10: val_loss did not improve from 0.74470\n",
            "335/335 [==============================] - 6s 17ms/step - loss: 3.5051 - mse: 3.5051 - val_loss: 0.7505 - val_mse: 0.7505 - lr: 0.0020\n",
            "Epoch 11/100\n",
            "333/335 [============================>.] - ETA: 0s - loss: 3.4920 - mse: 3.4920\n",
            "Epoch 11: val_loss did not improve from 0.74470\n",
            "335/335 [==============================] - 6s 16ms/step - loss: 3.4831 - mse: 3.4831 - val_loss: 0.7648 - val_mse: 0.7648 - lr: 0.0020\n",
            "Epoch 12/100\n",
            "333/335 [============================>.] - ETA: 0s - loss: 3.6790 - mse: 3.6790\n",
            "Epoch 12: val_loss did not improve from 0.74470\n",
            "335/335 [==============================] - 6s 16ms/step - loss: 3.6638 - mse: 3.6638 - val_loss: 0.7635 - val_mse: 0.7635 - lr: 0.0020\n",
            "Epoch 13/100\n",
            "333/335 [============================>.] - ETA: 0s - loss: 4.2386 - mse: 4.2386\n",
            "Epoch 13: val_loss did not improve from 0.74470\n",
            "335/335 [==============================] - 6s 17ms/step - loss: 4.2211 - mse: 4.2211 - val_loss: 0.8648 - val_mse: 0.8648 - lr: 0.0020\n",
            "Epoch 14/100\n",
            "332/335 [============================>.] - ETA: 0s - loss: 4.3767 - mse: 4.3767\n",
            "Epoch 14: val_loss improved from 0.74470 to 0.73815, saving model to Model.h5\n",
            "335/335 [==============================] - 6s 17ms/step - loss: 4.3600 - mse: 4.3600 - val_loss: 0.7382 - val_mse: 0.7382 - lr: 0.0020\n",
            "Epoch 15/100\n",
            "332/335 [============================>.] - ETA: 0s - loss: 4.0127 - mse: 4.0127\n",
            "Epoch 15: val_loss did not improve from 0.73815\n",
            "335/335 [==============================] - 6s 17ms/step - loss: 3.9978 - mse: 3.9978 - val_loss: 0.7909 - val_mse: 0.7909 - lr: 0.0020\n",
            "Epoch 16/100\n",
            "334/335 [============================>.] - ETA: 0s - loss: 3.4325 - mse: 3.4325\n",
            "Epoch 16: val_loss did not improve from 0.73815\n",
            "335/335 [==============================] - 6s 16ms/step - loss: 3.4298 - mse: 3.4298 - val_loss: 1.1137 - val_mse: 1.1137 - lr: 0.0020\n",
            "Epoch 17/100\n",
            "332/335 [============================>.] - ETA: 0s - loss: 3.5275 - mse: 3.5275\n",
            "Epoch 17: val_loss did not improve from 0.73815\n",
            "335/335 [==============================] - 6s 17ms/step - loss: 3.5068 - mse: 3.5068 - val_loss: 0.7696 - val_mse: 0.7696 - lr: 0.0020\n",
            "Epoch 18/100\n",
            "332/335 [============================>.] - ETA: 0s - loss: 3.4142 - mse: 3.4142\n",
            "Epoch 18: val_loss did not improve from 0.73815\n",
            "335/335 [==============================] - 6s 17ms/step - loss: 3.4002 - mse: 3.4002 - val_loss: 0.8272 - val_mse: 0.8272 - lr: 0.0020\n",
            "Epoch 19/100\n",
            "334/335 [============================>.] - ETA: 0s - loss: 4.0116 - mse: 4.0116\n",
            "Epoch 19: val_loss did not improve from 0.73815\n",
            "335/335 [==============================] - 6s 17ms/step - loss: 4.0046 - mse: 4.0046 - val_loss: 0.7866 - val_mse: 0.7866 - lr: 0.0020\n",
            "Epoch 20/100\n",
            "332/335 [============================>.] - ETA: 0s - loss: 3.4801 - mse: 3.4801\n",
            "Epoch 20: val_loss did not improve from 0.73815\n",
            "335/335 [==============================] - 6s 17ms/step - loss: 3.4633 - mse: 3.4633 - val_loss: 0.7620 - val_mse: 0.7620 - lr: 0.0020\n",
            "Epoch 21/100\n",
            "335/335 [==============================] - ETA: 0s - loss: 3.1121 - mse: 3.1121\n",
            "Epoch 21: val_loss did not improve from 0.73815\n",
            "335/335 [==============================] - 6s 17ms/step - loss: 3.1121 - mse: 3.1121 - val_loss: 0.8964 - val_mse: 0.8964 - lr: 0.0020\n",
            "Epoch 22/100\n",
            "332/335 [============================>.] - ETA: 0s - loss: 3.2193 - mse: 3.2193\n",
            "Epoch 22: val_loss improved from 0.73815 to 0.73575, saving model to Model.h5\n",
            "335/335 [==============================] - 6s 17ms/step - loss: 3.2022 - mse: 3.2022 - val_loss: 0.7357 - val_mse: 0.7357 - lr: 0.0020\n",
            "Epoch 23/100\n",
            "334/335 [============================>.] - ETA: 0s - loss: 3.2841 - mse: 3.2841\n",
            "Epoch 23: val_loss did not improve from 0.73575\n",
            "335/335 [==============================] - 6s 17ms/step - loss: 3.2824 - mse: 3.2824 - val_loss: 0.7364 - val_mse: 0.7364 - lr: 0.0020\n",
            "Epoch 24/100\n",
            "334/335 [============================>.] - ETA: 0s - loss: 3.2606 - mse: 3.2606\n",
            "Epoch 24: val_loss did not improve from 0.73575\n",
            "335/335 [==============================] - 6s 17ms/step - loss: 3.3913 - mse: 3.3913 - val_loss: 0.7488 - val_mse: 0.7488 - lr: 0.0020\n",
            "Epoch 25/100\n",
            "332/335 [============================>.] - ETA: 0s - loss: 3.0753 - mse: 3.0753\n",
            "Epoch 25: val_loss improved from 0.73575 to 0.72823, saving model to Model.h5\n",
            "335/335 [==============================] - 6s 17ms/step - loss: 3.0560 - mse: 3.0560 - val_loss: 0.7282 - val_mse: 0.7282 - lr: 0.0020\n",
            "Epoch 26/100\n",
            "333/335 [============================>.] - ETA: 0s - loss: 4.8981 - mse: 4.8981\n",
            "Epoch 26: val_loss did not improve from 0.72823\n",
            "335/335 [==============================] - 6s 17ms/step - loss: 4.8792 - mse: 4.8792 - val_loss: 0.8055 - val_mse: 0.8055 - lr: 0.0020\n",
            "Epoch 27/100\n",
            "333/335 [============================>.] - ETA: 0s - loss: 3.0378 - mse: 3.0378\n",
            "Epoch 27: val_loss did not improve from 0.72823\n",
            "335/335 [==============================] - 6s 17ms/step - loss: 3.0262 - mse: 3.0262 - val_loss: 0.7534 - val_mse: 0.7534 - lr: 0.0020\n",
            "Epoch 28/100\n",
            "335/335 [==============================] - ETA: 0s - loss: 2.9257 - mse: 2.9257\n",
            "Epoch 28: val_loss did not improve from 0.72823\n",
            "335/335 [==============================] - 6s 17ms/step - loss: 2.9257 - mse: 2.9257 - val_loss: 0.7563 - val_mse: 0.7563 - lr: 0.0020\n",
            "Epoch 29/100\n",
            "334/335 [============================>.] - ETA: 0s - loss: 3.1884 - mse: 3.1884\n",
            "Epoch 29: val_loss did not improve from 0.72823\n",
            "335/335 [==============================] - 6s 17ms/step - loss: 3.1836 - mse: 3.1836 - val_loss: 0.7701 - val_mse: 0.7701 - lr: 0.0020\n",
            "Epoch 30/100\n",
            "334/335 [============================>.] - ETA: 0s - loss: 3.1483 - mse: 3.1483\n",
            "Epoch 30: val_loss did not improve from 0.72823\n",
            "335/335 [==============================] - 6s 18ms/step - loss: 3.1435 - mse: 3.1435 - val_loss: 0.8203 - val_mse: 0.8203 - lr: 0.0020\n",
            "Epoch 31/100\n",
            "335/335 [==============================] - ETA: 0s - loss: 2.8847 - mse: 2.8847\n",
            "Epoch 31: val_loss did not improve from 0.72823\n",
            "335/335 [==============================] - 6s 18ms/step - loss: 2.8847 - mse: 2.8847 - val_loss: 0.7580 - val_mse: 0.7580 - lr: 0.0020\n",
            "Epoch 32/100\n",
            "334/335 [============================>.] - ETA: 0s - loss: 2.9766 - mse: 2.9766\n",
            "Epoch 32: val_loss did not improve from 0.72823\n",
            "335/335 [==============================] - 7s 19ms/step - loss: 2.9808 - mse: 2.9808 - val_loss: 0.7312 - val_mse: 0.7312 - lr: 0.0020\n",
            "Epoch 33/100\n",
            "333/335 [============================>.] - ETA: 0s - loss: 5.3567 - mse: 5.3567\n",
            "Epoch 33: val_loss did not improve from 0.72823\n",
            "335/335 [==============================] - 6s 18ms/step - loss: 5.3346 - mse: 5.3346 - val_loss: 0.8193 - val_mse: 0.8193 - lr: 0.0020\n",
            "Epoch 34/100\n",
            "332/335 [============================>.] - ETA: 0s - loss: 4.5202 - mse: 4.5202\n",
            "Epoch 34: val_loss did not improve from 0.72823\n",
            "335/335 [==============================] - 6s 17ms/step - loss: 4.4920 - mse: 4.4920 - val_loss: 0.7648 - val_mse: 0.7648 - lr: 0.0020\n",
            "Epoch 35/100\n",
            "332/335 [============================>.] - ETA: 0s - loss: 5.6963 - mse: 5.6963\n",
            "Epoch 35: val_loss did not improve from 0.72823\n",
            "335/335 [==============================] - 6s 17ms/step - loss: 5.6739 - mse: 5.6739 - val_loss: 0.7802 - val_mse: 0.7802 - lr: 0.0020\n"
          ]
        }
      ]
    },
    {
      "cell_type": "code",
      "source": [
        "# loss, acc = model.evaluate(test_data, test_labels)\n",
        "# loss, acc"
      ],
      "metadata": {
        "id": "QpDkG8Xx8yuO"
      },
      "id": "QpDkG8Xx8yuO",
      "execution_count": null,
      "outputs": []
    },
    {
      "cell_type": "code",
      "source": [
        "import pandas as pd\n",
        "import matplotlib.pyplot as plt\n",
        "from matplotlib.pyplot import MultipleLocator\n",
        "\n",
        "# Plot the validation and training data separately\n",
        "def plot_loss_curves(history):\n",
        "  \"\"\"\n",
        "  Returns separate loss curves for training and validation metrics.\n",
        "  \"\"\" \n",
        "  loss = history.history['loss']\n",
        "  val_loss = history.history['val_loss']\n",
        "\n",
        "  mse = history.history['mse']\n",
        "  val_mse = history.history['val_mse']\n",
        "\n",
        "  epochs = range(len(history.history['loss']))\n",
        "\n",
        "  # 設置統一刻度間距及範圍\n",
        "  # x_major_locator = MultipleLocator(1)\n",
        "  # y_major_locator = MultipleLocator(0.05)\n",
        "  \n",
        "  # ax=plt.gca()\n",
        "  # ax.xaxis.set_major_locator(x_major_locator)\n",
        "  # ax.yaxis.set_major_locator(y_major_locator)\n",
        "  # plt.xlim(0, 10)\n",
        "  pd.DataFrame(history.history).plot(figsize=(10,7));\n",
        "\n",
        "  # Plot loss\n",
        "  plt.figure()\n",
        "  plt.plot(epochs, loss, label='training_loss')\n",
        "  plt.plot(epochs, val_loss, label='val_loss')\n",
        "  plt.title('Loss')\n",
        "  plt.xlabel('Epochs')\n",
        "  plt.legend()\n",
        "\n",
        "  # Plot accuracy\n",
        "  plt.figure()\n",
        "  plt.plot(epochs, mse, label='training_mse')\n",
        "  plt.plot(epochs, val_mse, label='val_mse')\n",
        "  plt.title('MSE')\n",
        "  plt.xlabel('Epochs')\n",
        "  plt.legend();['val_loss']"
      ],
      "metadata": {
        "id": "TunU-POb8z_r"
      },
      "id": "TunU-POb8z_r",
      "execution_count": 24,
      "outputs": []
    },
    {
      "cell_type": "code",
      "source": [
        "import matplotlib.pyplot as plt\n",
        "plot_loss_curves(history)"
      ],
      "metadata": {
        "colab": {
          "base_uri": "https://localhost:8080/",
          "height": 984
        },
        "id": "M4Tt8qz99EoZ",
        "outputId": "602707c1-2f9d-4c2a-fd7b-643f2251191e"
      },
      "id": "M4Tt8qz99EoZ",
      "execution_count": 89,
      "outputs": [
        {
          "output_type": "display_data",
          "data": {
            "text/plain": [
              "<Figure size 720x504 with 1 Axes>"
            ],
            "image/png": "[encoded data removed]"
          },
          "metadata": {
            "needs_background": "light"
          }
        },
        {
          "output_type": "display_data",
          "data": {
            "text/plain": [
              "<Figure size 432x288 with 1 Axes>"
            ],
            "image/png": "[encoded data removed]"
          },
          "metadata": {
            "needs_background": "light"
          }
        },
        {
          "output_type": "display_data",
          "data": {
            "text/plain": [
              "<Figure size 432x288 with 1 Axes>"
            ],
            "image/png": "[encoded data removed]"
          },
          "metadata": {
            "needs_background": "light"
          }
        }
      ]
    },
    {
      "cell_type": "code",
      "source": [
        "import matplotlib.pyplot as plt\n",
        "plot_loss_curves(history_1)"
      ],
      "metadata": {
        "colab": {
          "base_uri": "https://localhost:8080/",
          "height": 984
        },
        "id": "yCnDdIeoTzQC",
        "outputId": "4e61cc26-e65a-4ea6-ea56-cc7a368399c1"
      },
      "id": "yCnDdIeoTzQC",
      "execution_count": 85,
      "outputs": [
        {
          "output_type": "display_data",
          "data": {
            "text/plain": [
              "<Figure size 720x504 with 1 Axes>"
            ],
            "image/png": "[encoded data removed]"
          },
          "metadata": {
            "needs_background": "light"
          }
        },
        {
          "output_type": "display_data",
          "data": {
            "text/plain": [
              "<Figure size 432x288 with 1 Axes>"
            ],
            "image/png": "[encoded data removed]"
          },
          "metadata": {
            "needs_background": "light"
          }
        },
        {
          "output_type": "display_data",
          "data": {
            "text/plain": [
              "<Figure size 432x288 with 1 Axes>"
            ],
            "image/png": "[encoded data removed]"
          },
          "metadata": {
            "needs_background": "light"
          }
        }
      ]
    },
    {
      "cell_type": "code",
      "source": [
        "model = tf.keras.models.load_model('./Model.h5')"
      ],
      "metadata": {
        "id": "OeZslGJR-oMd"
      },
      "id": "OeZslGJR-oMd",
      "execution_count": null,
      "outputs": []
    },
    {
      "cell_type": "markdown",
      "id": "e26f1f28",
      "metadata": {
        "papermill": {
          "duration": 4.045723,
          "end_time": "2022-05-25T16:25:41.054703",
          "exception": false,
          "start_time": "2022-05-25T16:25:37.008980",
          "status": "completed"
        },
        "tags": [],
        "id": "e26f1f28"
      },
      "source": [
        "**Submit Predictions**"
      ]
    },
    {
      "cell_type": "code",
      "execution_count": 26,
      "id": "ff10c562",
      "metadata": {
        "execution": {
          "iopub.execute_input": "2022-05-25T16:25:49.403784Z",
          "iopub.status.busy": "2022-05-25T16:25:49.403331Z",
          "iopub.status.idle": "2022-05-25T16:26:20.878083Z",
          "shell.execute_reply": "2022-05-25T16:26:20.877303Z"
        },
        "papermill": {
          "duration": 35.556688,
          "end_time": "2022-05-25T16:26:20.880232",
          "exception": false,
          "start_time": "2022-05-25T16:25:45.323544",
          "status": "completed"
        },
        "tags": [],
        "colab": {
          "base_uri": "https://localhost:8080/",
          "height": 424
        },
        "id": "ff10c562",
        "outputId": "48bc0cad-b584-42fc-9a1b-05dc5d6a7c28"
      },
      "outputs": [
        {
          "output_type": "execute_result",
          "data": {
            "text/plain": [
              "            ID  item_cnt_month\n",
              "0            0        0.480403\n",
              "1            1        0.121278\n",
              "2            2        0.803945\n",
              "3            3        0.120438\n",
              "4            4        0.121278\n",
              "...        ...             ...\n",
              "214195  214195        0.412207\n",
              "214196  214196        0.121278\n",
              "214197  214197        0.115950\n",
              "214198  214198        0.121278\n",
              "214199  214199        0.064230\n",
              "\n",
              "[214200 rows x 2 columns]"
            ],
            "text/html": [
              "\n",
              "  <div id=\"df-226b05ef-b3b1-4d9c-819e-930e652e4a73\">\n",
              "    <div class=\"colab-df-container\">\n",
              "      <div>\n",
              "<style scoped>\n",
              "    .dataframe tbody tr th:only-of-type {\n",
              "        vertical-align: middle;\n",
              "    }\n",
              "\n",
              "    .dataframe tbody tr th {\n",
              "        vertical-align: top;\n",
              "    }\n",
              "\n",
              "    .dataframe thead th {\n",
              "        text-align: right;\n",
              "    }\n",
              "</style>\n",
              "<table border=\"1\" class=\"dataframe\">\n",
              "  <thead>\n",
              "    <tr style=\"text-align: right;\">\n",
              "      <th></th>\n",
              "      <th>ID</th>\n",
              "      <th>item_cnt_month</th>\n",
              "    </tr>\n",
              "  </thead>\n",
              "  <tbody>\n",
              "    <tr>\n",
              "      <th>0</th>\n",
              "      <td>0</td>\n",
              "      <td>0.480403</td>\n",
              "    </tr>\n",
              "    <tr>\n",
              "      <th>1</th>\n",
              "      <td>1</td>\n",
              "      <td>0.121278</td>\n",
              "    </tr>\n",
              "    <tr>\n",
              "      <th>2</th>\n",
              "      <td>2</td>\n",
              "      <td>0.803945</td>\n",
              "    </tr>\n",
              "    <tr>\n",
              "      <th>3</th>\n",
              "      <td>3</td>\n",
              "      <td>0.120438</td>\n",
              "    </tr>\n",
              "    <tr>\n",
              "      <th>4</th>\n",
              "      <td>4</td>\n",
              "      <td>0.121278</td>\n",
              "    </tr>\n",
              "    <tr>\n",
              "      <th>...</th>\n",
              "      <td>...</td>\n",
              "      <td>...</td>\n",
              "    </tr>\n",
              "    <tr>\n",
              "      <th>214195</th>\n",
              "      <td>214195</td>\n",
              "      <td>0.412207</td>\n",
              "    </tr>\n",
              "    <tr>\n",
              "      <th>214196</th>\n",
              "      <td>214196</td>\n",
              "      <td>0.121278</td>\n",
              "    </tr>\n",
              "    <tr>\n",
              "      <th>214197</th>\n",
              "      <td>214197</td>\n",
              "      <td>0.115950</td>\n",
              "    </tr>\n",
              "    <tr>\n",
              "      <th>214198</th>\n",
              "      <td>214198</td>\n",
              "      <td>0.121278</td>\n",
              "    </tr>\n",
              "    <tr>\n",
              "      <th>214199</th>\n",
              "      <td>214199</td>\n",
              "      <td>0.064230</td>\n",
              "    </tr>\n",
              "  </tbody>\n",
              "</table>\n",
              "<p>214200 rows × 2 columns</p>\n",
              "</div>\n",
              "      <button class=\"colab-df-convert\" onclick=\"convertToInteractive('df-226b05ef-b3b1-4d9c-819e-930e652e4a73')\"\n",
              "              title=\"Convert this dataframe to an interactive table.\"\n",
              "              style=\"display:none;\">\n",
              "        \n",
              "  <svg xmlns=\"http://www.w3.org/2000/svg\" height=\"24px\"viewBox=\"0 0 24 24\"\n",
              "       width=\"24px\">\n",
              "    <path d=\"M0 0h24v24H0V0z\" fill=\"none\"/>\n",
              "    <path d=\"M18.56 5.44l.94 2.06.94-2.06 2.06-.94-2.06-.94-.94-2.06-.94 2.06-2.06.94zm-11 1L8.5 8.5l.94-2.06 2.06-.94-2.06-.94L8.5 2.5l-.94 2.06-2.06.94zm10 10l.94 2.06.94-2.06 2.06-.94-2.06-.94-.94-2.06-.94 2.06-2.06.94z\"/><path d=\"M17.41 7.96l-1.37-1.37c-.4-.4-.92-.59-1.43-.59-.52 0-1.04.2-1.43.59L10.3 9.45l-7.72 7.72c-.78.78-.78 2.05 0 2.83L4 21.41c.39.39.9.59 1.41.59.51 0 1.02-.2 1.41-.59l7.78-7.78 2.81-2.81c.8-.78.8-2.07 0-2.86zM5.41 20L4 18.59l7.72-7.72 1.47 1.35L5.41 20z\"/>\n",
              "  </svg>\n",
              "      </button>\n",
              "      \n",
              "  <style>\n",
              "    .colab-df-container {\n",
              "      display:flex;\n",
              "      flex-wrap:wrap;\n",
              "      gap: 12px;\n",
              "    }\n",
              "\n",
              "    .colab-df-convert {\n",
              "      background-color: #E8F0FE;\n",
              "      border: none;\n",
              "      border-radius: 50%;\n",
              "      cursor: pointer;\n",
              "      display: none;\n",
              "      fill: #1967D2;\n",
              "      height: 32px;\n",
              "      padding: 0 0 0 0;\n",
              "      width: 32px;\n",
              "    }\n",
              "\n",
              "    .colab-df-convert:hover {\n",
              "      background-color: #E2EBFA;\n",
              "      box-shadow: 0px 1px 2px rgba(60, 64, 67, 0.3), 0px 1px 3px 1px rgba(60, 64, 67, 0.15);\n",
              "      fill: #174EA6;\n",
              "    }\n",
              "\n",
              "    [theme=dark] .colab-df-convert {\n",
              "      background-color: #3B4455;\n",
              "      fill: #D2E3FC;\n",
              "    }\n",
              "\n",
              "    [theme=dark] .colab-df-convert:hover {\n",
              "      background-color: #434B5C;\n",
              "      box-shadow: 0px 1px 3px 1px rgba(0, 0, 0, 0.15);\n",
              "      filter: drop-shadow(0px 1px 2px rgba(0, 0, 0, 0.3));\n",
              "      fill: #FFFFFF;\n",
              "    }\n",
              "  </style>\n",
              "\n",
              "      <script>\n",
              "        const buttonEl =\n",
              "          document.querySelector('#df-226b05ef-b3b1-4d9c-819e-930e652e4a73 button.colab-df-convert');\n",
              "        buttonEl.style.display =\n",
              "          google.colab.kernel.accessAllowed ? 'block' : 'none';\n",
              "\n",
              "        async function convertToInteractive(key) {\n",
              "          const element = document.querySelector('#df-226b05ef-b3b1-4d9c-819e-930e652e4a73');\n",
              "          const dataTable =\n",
              "            await google.colab.kernel.invokeFunction('convertToInteractive',\n",
              "                                                     [key], {});\n",
              "          if (!dataTable) return;\n",
              "\n",
              "          const docLinkHtml = 'Like what you see? Visit the ' +\n",
              "            '<a target=\"_blank\" href=https://colab.research.google.com/notebooks/data_table.ipynb>data table notebook</a>'\n",
              "            + ' to learn more about interactive tables.';\n",
              "          element.innerHTML = '';\n",
              "          dataTable['output_type'] = 'display_data';\n",
              "          await google.colab.output.renderOutput(dataTable, element);\n",
              "          const docLink = document.createElement('div');\n",
              "          docLink.innerHTML = docLinkHtml;\n",
              "          element.appendChild(docLink);\n",
              "        }\n",
              "      </script>\n",
              "    </div>\n",
              "  </div>\n",
              "  "
            ]
          },
          "metadata": {},
          "execution_count": 26
        }
      ],
      "source": [
        "submission = pd.DataFrame(sales_test['ID'])\n",
        "submission['item_cnt_month'] = model.predict(X_test)\n",
        "submission.to_csv('/content/drive/MyDrive/submission.csv',index = False)\n",
        "submission"
      ]
    },
    {
      "cell_type": "code",
      "source": [
        ""
      ],
      "metadata": {
        "id": "IpAihQrF5xMu"
      },
      "id": "IpAihQrF5xMu",
      "execution_count": null,
      "outputs": []
    }
  ],
  "metadata": {
    "kernelspec": {
      "display_name": "Python 3",
      "language": "python",
      "name": "python3"
    },
    "language_info": {
      "codemirror_mode": {
        "name": "ipython",
        "version": 3
      },
      "file_extension": ".py",
      "mimetype": "text/x-python",
      "name": "python",
      "nbconvert_exporter": "python",
      "pygments_lexer": "ipython3",
      "version": "3.7.12"
    },
    "papermill": {
      "default_parameters": {},
      "duration": 857.757498,
      "end_time": "2022-05-25T16:26:27.567080",
      "environment_variables": {},
      "exception": null,
      "input_path": "__notebook__.ipynb",
      "output_path": "__notebook__.ipynb",
      "parameters": {},
      "start_time": "2022-05-25T16:12:09.809582",
      "version": "2.3.4"
    },
    "colab": {
      "name": "time-series-forcasting-with-lstm.ipynb",
      "provenance": [],
      "collapsed_sections": [
        "tjxqSewLA0lK"
      ],
      "include_colab_link": true
    },
    "accelerator": "GPU"
  },
  "nbformat": 4,
  "nbformat_minor": 5
}